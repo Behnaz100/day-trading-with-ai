{
 "cells": [
  {
   "cell_type": "code",
   "execution_count": 1,
   "id": "43308e40-a8e2-4989-8b7e-96cffdf84d63",
   "metadata": {},
   "outputs": [
    {
     "name": "stderr",
     "output_type": "stream",
     "text": [
      "2024-03-09 15:00:42.923374: I tensorflow/core/platform/cpu_feature_guard.cc:210] This TensorFlow binary is optimized to use available CPU instructions in performance-critical operations.\n",
      "To enable the following instructions: AVX2 FMA, in other operations, rebuild TensorFlow with the appropriate compiler flags.\n",
      "2024-03-09 15:00:45.237800: W tensorflow/compiler/tf2tensorrt/utils/py_utils.cc:38] TF-TRT Warning: Could not find TensorRT\n"
     ]
    }
   ],
   "source": [
    "import numpy as np\n",
    "import pandas as pd\n",
    "from sklearn.preprocessing import StandardScaler\n",
    "import tensorflow as tf\n",
    "from tensorflow.keras.models import Sequential, Model\n",
    "from tensorflow.keras.layers import LSTM, Dense, Input, Layer\n",
    "from sklearn.preprocessing import StandardScaler"
   ]
  },
  {
   "cell_type": "code",
   "execution_count": 2,
   "id": "e96b7bba-ab77-4ae9-9ec3-f8e69b28f1c6",
   "metadata": {},
   "outputs": [
    {
     "data": {
      "text/html": [
       "<div>\n",
       "<style scoped>\n",
       "    .dataframe tbody tr th:only-of-type {\n",
       "        vertical-align: middle;\n",
       "    }\n",
       "\n",
       "    .dataframe tbody tr th {\n",
       "        vertical-align: top;\n",
       "    }\n",
       "\n",
       "    .dataframe thead th {\n",
       "        text-align: right;\n",
       "    }\n",
       "</style>\n",
       "<table border=\"1\" class=\"dataframe\">\n",
       "  <thead>\n",
       "    <tr style=\"text-align: right;\">\n",
       "      <th></th>\n",
       "      <th>date</th>\n",
       "      <th>open</th>\n",
       "      <th>high</th>\n",
       "      <th>low</th>\n",
       "      <th>close</th>\n",
       "    </tr>\n",
       "  </thead>\n",
       "  <tbody>\n",
       "    <tr>\n",
       "      <th>0</th>\n",
       "      <td>2024-02-09 00:00:00</td>\n",
       "      <td>1.07780</td>\n",
       "      <td>1.07790</td>\n",
       "      <td>1.07779</td>\n",
       "      <td>1.07780</td>\n",
       "    </tr>\n",
       "    <tr>\n",
       "      <th>1</th>\n",
       "      <td>2024-02-09 00:01:00</td>\n",
       "      <td>1.07780</td>\n",
       "      <td>1.07782</td>\n",
       "      <td>1.07775</td>\n",
       "      <td>1.07780</td>\n",
       "    </tr>\n",
       "    <tr>\n",
       "      <th>2</th>\n",
       "      <td>2024-02-09 00:02:00</td>\n",
       "      <td>1.07778</td>\n",
       "      <td>1.07786</td>\n",
       "      <td>1.07778</td>\n",
       "      <td>1.07785</td>\n",
       "    </tr>\n",
       "    <tr>\n",
       "      <th>3</th>\n",
       "      <td>2024-02-09 00:03:00</td>\n",
       "      <td>1.07784</td>\n",
       "      <td>1.07786</td>\n",
       "      <td>1.07778</td>\n",
       "      <td>1.07779</td>\n",
       "    </tr>\n",
       "    <tr>\n",
       "      <th>4</th>\n",
       "      <td>2024-02-09 00:04:00</td>\n",
       "      <td>1.07780</td>\n",
       "      <td>1.07780</td>\n",
       "      <td>1.07772</td>\n",
       "      <td>1.07773</td>\n",
       "    </tr>\n",
       "  </tbody>\n",
       "</table>\n",
       "</div>"
      ],
      "text/plain": [
       "                  date     open     high      low    close\n",
       "0  2024-02-09 00:00:00  1.07780  1.07790  1.07779  1.07780\n",
       "1  2024-02-09 00:01:00  1.07780  1.07782  1.07775  1.07780\n",
       "2  2024-02-09 00:02:00  1.07778  1.07786  1.07778  1.07785\n",
       "3  2024-02-09 00:03:00  1.07784  1.07786  1.07778  1.07779\n",
       "4  2024-02-09 00:04:00  1.07780  1.07780  1.07772  1.07773"
      ]
     },
     "execution_count": 2,
     "metadata": {},
     "output_type": "execute_result"
    }
   ],
   "source": [
    "import pandas as pd\n",
    "df=pd.read_csv('/home/behnaz/project-day-trading/combined-2024-02-09-2024-03-07.csv')\n",
    "df.head()"
   ]
  },
  {
   "cell_type": "code",
   "execution_count": 3,
   "id": "21d18a5e-13f3-4ce0-b849-c69da6b747b4",
   "metadata": {},
   "outputs": [
    {
     "data": {
      "text/plain": [
       "date      datetime64[ns]\n",
       "open             float64\n",
       "high             float64\n",
       "low              float64\n",
       "close            float64\n",
       "return           float64\n",
       "dtype: object"
      ]
     },
     "execution_count": 3,
     "metadata": {},
     "output_type": "execute_result"
    }
   ],
   "source": [
    "df['return']=df['close'].diff()\n",
    "df['date']=pd.to_datetime(df['date'])\n",
    "df.dtypes"
   ]
  },
  {
   "cell_type": "code",
   "execution_count": 4,
   "id": "93bb4921-c62c-4887-b212-29d4f3f7f877",
   "metadata": {},
   "outputs": [
    {
     "data": {
      "text/html": [
       "<div>\n",
       "<style scoped>\n",
       "    .dataframe tbody tr th:only-of-type {\n",
       "        vertical-align: middle;\n",
       "    }\n",
       "\n",
       "    .dataframe tbody tr th {\n",
       "        vertical-align: top;\n",
       "    }\n",
       "\n",
       "    .dataframe thead th {\n",
       "        text-align: right;\n",
       "    }\n",
       "</style>\n",
       "<table border=\"1\" class=\"dataframe\">\n",
       "  <thead>\n",
       "    <tr style=\"text-align: right;\">\n",
       "      <th></th>\n",
       "      <th>date</th>\n",
       "      <th>open</th>\n",
       "      <th>high</th>\n",
       "      <th>low</th>\n",
       "      <th>close</th>\n",
       "      <th>return</th>\n",
       "      <th>day</th>\n",
       "      <th>hour</th>\n",
       "    </tr>\n",
       "  </thead>\n",
       "  <tbody>\n",
       "    <tr>\n",
       "      <th>0</th>\n",
       "      <td>2024-02-09 00:00:00</td>\n",
       "      <td>1.07780</td>\n",
       "      <td>1.07790</td>\n",
       "      <td>1.07779</td>\n",
       "      <td>1.07780</td>\n",
       "      <td>NaN</td>\n",
       "      <td>4</td>\n",
       "      <td>0</td>\n",
       "    </tr>\n",
       "    <tr>\n",
       "      <th>1</th>\n",
       "      <td>2024-02-09 00:01:00</td>\n",
       "      <td>1.07780</td>\n",
       "      <td>1.07782</td>\n",
       "      <td>1.07775</td>\n",
       "      <td>1.07780</td>\n",
       "      <td>0.00000</td>\n",
       "      <td>4</td>\n",
       "      <td>0</td>\n",
       "    </tr>\n",
       "    <tr>\n",
       "      <th>2</th>\n",
       "      <td>2024-02-09 00:02:00</td>\n",
       "      <td>1.07778</td>\n",
       "      <td>1.07786</td>\n",
       "      <td>1.07778</td>\n",
       "      <td>1.07785</td>\n",
       "      <td>0.00005</td>\n",
       "      <td>4</td>\n",
       "      <td>0</td>\n",
       "    </tr>\n",
       "    <tr>\n",
       "      <th>3</th>\n",
       "      <td>2024-02-09 00:03:00</td>\n",
       "      <td>1.07784</td>\n",
       "      <td>1.07786</td>\n",
       "      <td>1.07778</td>\n",
       "      <td>1.07779</td>\n",
       "      <td>-0.00006</td>\n",
       "      <td>4</td>\n",
       "      <td>0</td>\n",
       "    </tr>\n",
       "    <tr>\n",
       "      <th>4</th>\n",
       "      <td>2024-02-09 00:04:00</td>\n",
       "      <td>1.07780</td>\n",
       "      <td>1.07780</td>\n",
       "      <td>1.07772</td>\n",
       "      <td>1.07773</td>\n",
       "      <td>-0.00006</td>\n",
       "      <td>4</td>\n",
       "      <td>0</td>\n",
       "    </tr>\n",
       "  </tbody>\n",
       "</table>\n",
       "</div>"
      ],
      "text/plain": [
       "                 date     open     high      low    close   return  day  hour\n",
       "0 2024-02-09 00:00:00  1.07780  1.07790  1.07779  1.07780      NaN    4     0\n",
       "1 2024-02-09 00:01:00  1.07780  1.07782  1.07775  1.07780  0.00000    4     0\n",
       "2 2024-02-09 00:02:00  1.07778  1.07786  1.07778  1.07785  0.00005    4     0\n",
       "3 2024-02-09 00:03:00  1.07784  1.07786  1.07778  1.07779 -0.00006    4     0\n",
       "4 2024-02-09 00:04:00  1.07780  1.07780  1.07772  1.07773 -0.00006    4     0"
      ]
     },
     "execution_count": 4,
     "metadata": {},
     "output_type": "execute_result"
    }
   ],
   "source": [
    "df['day']=df['date'].dt.day_of_week\n",
    "df['hour']=df['date'].dt.hour\n",
    "df.head()"
   ]
  },
  {
   "cell_type": "code",
   "execution_count": 5,
   "id": "6f79600f-b7a5-4923-baf2-94ab22b346fa",
   "metadata": {},
   "outputs": [
    {
     "data": {
      "text/html": [
       "<div>\n",
       "<style scoped>\n",
       "    .dataframe tbody tr th:only-of-type {\n",
       "        vertical-align: middle;\n",
       "    }\n",
       "\n",
       "    .dataframe tbody tr th {\n",
       "        vertical-align: top;\n",
       "    }\n",
       "\n",
       "    .dataframe thead th {\n",
       "        text-align: right;\n",
       "    }\n",
       "</style>\n",
       "<table border=\"1\" class=\"dataframe\">\n",
       "  <thead>\n",
       "    <tr style=\"text-align: right;\">\n",
       "      <th></th>\n",
       "      <th>date</th>\n",
       "      <th>open</th>\n",
       "      <th>high</th>\n",
       "      <th>low</th>\n",
       "      <th>close</th>\n",
       "      <th>return</th>\n",
       "      <th>day</th>\n",
       "      <th>hour</th>\n",
       "      <th>dir</th>\n",
       "    </tr>\n",
       "  </thead>\n",
       "  <tbody>\n",
       "    <tr>\n",
       "      <th>0</th>\n",
       "      <td>2024-02-09 00:00:00</td>\n",
       "      <td>1.07780</td>\n",
       "      <td>1.07790</td>\n",
       "      <td>1.07779</td>\n",
       "      <td>1.07780</td>\n",
       "      <td>NaN</td>\n",
       "      <td>4</td>\n",
       "      <td>0</td>\n",
       "      <td>0</td>\n",
       "    </tr>\n",
       "    <tr>\n",
       "      <th>1</th>\n",
       "      <td>2024-02-09 00:01:00</td>\n",
       "      <td>1.07780</td>\n",
       "      <td>1.07782</td>\n",
       "      <td>1.07775</td>\n",
       "      <td>1.07780</td>\n",
       "      <td>0.00000</td>\n",
       "      <td>4</td>\n",
       "      <td>0</td>\n",
       "      <td>0</td>\n",
       "    </tr>\n",
       "    <tr>\n",
       "      <th>2</th>\n",
       "      <td>2024-02-09 00:02:00</td>\n",
       "      <td>1.07778</td>\n",
       "      <td>1.07786</td>\n",
       "      <td>1.07778</td>\n",
       "      <td>1.07785</td>\n",
       "      <td>0.00005</td>\n",
       "      <td>4</td>\n",
       "      <td>0</td>\n",
       "      <td>1</td>\n",
       "    </tr>\n",
       "    <tr>\n",
       "      <th>3</th>\n",
       "      <td>2024-02-09 00:03:00</td>\n",
       "      <td>1.07784</td>\n",
       "      <td>1.07786</td>\n",
       "      <td>1.07778</td>\n",
       "      <td>1.07779</td>\n",
       "      <td>-0.00006</td>\n",
       "      <td>4</td>\n",
       "      <td>0</td>\n",
       "      <td>0</td>\n",
       "    </tr>\n",
       "    <tr>\n",
       "      <th>4</th>\n",
       "      <td>2024-02-09 00:04:00</td>\n",
       "      <td>1.07780</td>\n",
       "      <td>1.07780</td>\n",
       "      <td>1.07772</td>\n",
       "      <td>1.07773</td>\n",
       "      <td>-0.00006</td>\n",
       "      <td>4</td>\n",
       "      <td>0</td>\n",
       "      <td>0</td>\n",
       "    </tr>\n",
       "  </tbody>\n",
       "</table>\n",
       "</div>"
      ],
      "text/plain": [
       "                 date     open     high      low    close   return  day  hour  \\\n",
       "0 2024-02-09 00:00:00  1.07780  1.07790  1.07779  1.07780      NaN    4     0   \n",
       "1 2024-02-09 00:01:00  1.07780  1.07782  1.07775  1.07780  0.00000    4     0   \n",
       "2 2024-02-09 00:02:00  1.07778  1.07786  1.07778  1.07785  0.00005    4     0   \n",
       "3 2024-02-09 00:03:00  1.07784  1.07786  1.07778  1.07779 -0.00006    4     0   \n",
       "4 2024-02-09 00:04:00  1.07780  1.07780  1.07772  1.07773 -0.00006    4     0   \n",
       "\n",
       "   dir  \n",
       "0    0  \n",
       "1    0  \n",
       "2    1  \n",
       "3    0  \n",
       "4    0  "
      ]
     },
     "execution_count": 5,
     "metadata": {},
     "output_type": "execute_result"
    }
   ],
   "source": [
    "df['dir']=np.where(df['return']>0,1,0)\n",
    "df.head()"
   ]
  },
  {
   "cell_type": "code",
   "execution_count": 6,
   "id": "7b833008-1d6c-4ece-b51d-e6d24f9cefab",
   "metadata": {},
   "outputs": [
    {
     "data": {
      "text/html": [
       "<div>\n",
       "<style scoped>\n",
       "    .dataframe tbody tr th:only-of-type {\n",
       "        vertical-align: middle;\n",
       "    }\n",
       "\n",
       "    .dataframe tbody tr th {\n",
       "        vertical-align: top;\n",
       "    }\n",
       "\n",
       "    .dataframe thead th {\n",
       "        text-align: right;\n",
       "    }\n",
       "</style>\n",
       "<table border=\"1\" class=\"dataframe\">\n",
       "  <thead>\n",
       "    <tr style=\"text-align: right;\">\n",
       "      <th></th>\n",
       "      <th>date</th>\n",
       "      <th>open</th>\n",
       "      <th>high</th>\n",
       "      <th>low</th>\n",
       "      <th>close</th>\n",
       "      <th>return</th>\n",
       "      <th>day</th>\n",
       "      <th>hour</th>\n",
       "      <th>dir</th>\n",
       "      <th>sma</th>\n",
       "      <th>min</th>\n",
       "      <th>max</th>\n",
       "      <th>mom</th>\n",
       "      <th>vola</th>\n",
       "    </tr>\n",
       "  </thead>\n",
       "  <tbody>\n",
       "    <tr>\n",
       "      <th>28580</th>\n",
       "      <td>2024-03-07 23:56:00</td>\n",
       "      <td>1.09500</td>\n",
       "      <td>1.09501</td>\n",
       "      <td>1.09500</td>\n",
       "      <td>1.09500</td>\n",
       "      <td>0.00000</td>\n",
       "      <td>3</td>\n",
       "      <td>23</td>\n",
       "      <td>0</td>\n",
       "      <td>0.000147</td>\n",
       "      <td>-0.000146</td>\n",
       "      <td>0.000000</td>\n",
       "      <td>1.095000</td>\n",
       "      <td>0.000043</td>\n",
       "    </tr>\n",
       "    <tr>\n",
       "      <th>28581</th>\n",
       "      <td>2024-03-07 23:57:00</td>\n",
       "      <td>1.09500</td>\n",
       "      <td>1.09501</td>\n",
       "      <td>1.09500</td>\n",
       "      <td>1.09500</td>\n",
       "      <td>0.00000</td>\n",
       "      <td>3</td>\n",
       "      <td>23</td>\n",
       "      <td>0</td>\n",
       "      <td>0.000147</td>\n",
       "      <td>-0.000146</td>\n",
       "      <td>0.000000</td>\n",
       "      <td>1.095000</td>\n",
       "      <td>0.000042</td>\n",
       "    </tr>\n",
       "    <tr>\n",
       "      <th>28582</th>\n",
       "      <td>2024-03-07 23:58:00</td>\n",
       "      <td>1.09500</td>\n",
       "      <td>1.09506</td>\n",
       "      <td>1.09500</td>\n",
       "      <td>1.09503</td>\n",
       "      <td>0.00003</td>\n",
       "      <td>3</td>\n",
       "      <td>23</td>\n",
       "      <td>1</td>\n",
       "      <td>0.000148</td>\n",
       "      <td>-0.000174</td>\n",
       "      <td>0.000000</td>\n",
       "      <td>1.095010</td>\n",
       "      <td>0.000042</td>\n",
       "    </tr>\n",
       "    <tr>\n",
       "      <th>28583</th>\n",
       "      <td>2024-03-07 23:59:00</td>\n",
       "      <td>1.09502</td>\n",
       "      <td>1.09514</td>\n",
       "      <td>1.09502</td>\n",
       "      <td>1.09512</td>\n",
       "      <td>0.00009</td>\n",
       "      <td>3</td>\n",
       "      <td>23</td>\n",
       "      <td>1</td>\n",
       "      <td>0.000151</td>\n",
       "      <td>-0.000237</td>\n",
       "      <td>0.000000</td>\n",
       "      <td>1.095050</td>\n",
       "      <td>0.000044</td>\n",
       "    </tr>\n",
       "    <tr>\n",
       "      <th>28584</th>\n",
       "      <td>2024-03-08 00:00:00</td>\n",
       "      <td>1.09512</td>\n",
       "      <td>1.09514</td>\n",
       "      <td>1.09508</td>\n",
       "      <td>1.09510</td>\n",
       "      <td>-0.00002</td>\n",
       "      <td>4</td>\n",
       "      <td>0</td>\n",
       "      <td>0</td>\n",
       "      <td>0.000152</td>\n",
       "      <td>-0.000219</td>\n",
       "      <td>0.000018</td>\n",
       "      <td>1.095083</td>\n",
       "      <td>0.000046</td>\n",
       "    </tr>\n",
       "  </tbody>\n",
       "</table>\n",
       "</div>"
      ],
      "text/plain": [
       "                     date     open     high      low    close   return  day  \\\n",
       "28580 2024-03-07 23:56:00  1.09500  1.09501  1.09500  1.09500  0.00000    3   \n",
       "28581 2024-03-07 23:57:00  1.09500  1.09501  1.09500  1.09500  0.00000    3   \n",
       "28582 2024-03-07 23:58:00  1.09500  1.09506  1.09500  1.09503  0.00003    3   \n",
       "28583 2024-03-07 23:59:00  1.09502  1.09514  1.09502  1.09512  0.00009    3   \n",
       "28584 2024-03-08 00:00:00  1.09512  1.09514  1.09508  1.09510 -0.00002    4   \n",
       "\n",
       "       hour  dir       sma       min       max       mom      vola  \n",
       "28580    23    0  0.000147 -0.000146  0.000000  1.095000  0.000043  \n",
       "28581    23    0  0.000147 -0.000146  0.000000  1.095000  0.000042  \n",
       "28582    23    1  0.000148 -0.000174  0.000000  1.095010  0.000042  \n",
       "28583    23    1  0.000151 -0.000237  0.000000  1.095050  0.000044  \n",
       "28584     0    0  0.000152 -0.000219  0.000018  1.095083  0.000046  "
      ]
     },
     "execution_count": 6,
     "metadata": {},
     "output_type": "execute_result"
    }
   ],
   "source": [
    "timeframe=50\n",
    "df['sma']=df['close'].rolling(timeframe).mean() - df['close'].rolling(150).mean()\n",
    "df['min']=df['close'].rolling(timeframe).min()/df['close'] - 1\n",
    "df['max']=df['close'].rolling(timeframe).max()/df['close'] - 1\n",
    "df['mom']=df['close'].rolling(3).mean()\n",
    "df['vola']=df['close'].rolling(timeframe).std()\n",
    "df.tail()"
   ]
  },
  {
   "cell_type": "code",
   "execution_count": 7,
   "id": "6bcc6c06-1db9-41be-8bef-1a45d143d0dc",
   "metadata": {},
   "outputs": [],
   "source": [
    "#input_data= df[['day','hour','open','close','high','low','sma','min','max','mom', 'vola', 'dir']].values\n",
    "input_data= df[['close','mom']]\n",
    "targets=df['dir'].values\n",
    "T=5\n",
    "D=input_data.shape[1]\n",
    "N=len(input_data)-T"
   ]
  },
  {
   "cell_type": "code",
   "execution_count": 8,
   "id": "f64354fc-efd7-4697-9c85-be5f1fed95d6",
   "metadata": {},
   "outputs": [
    {
     "data": {
      "text/plain": [
       "22868"
      ]
     },
     "execution_count": 8,
     "metadata": {},
     "output_type": "execute_result"
    }
   ],
   "source": [
    "Ntrain=int(len(input_data)*0.8)\n",
    "Ntrain"
   ]
  },
  {
   "cell_type": "code",
   "execution_count": 9,
   "id": "3121cd68-d378-4752-bb07-6321dfd38a50",
   "metadata": {},
   "outputs": [
    {
     "data": {
      "text/plain": [
       "array([[-0.45666609,         nan],\n",
       "       [-0.45666609,         nan],\n",
       "       [-0.44427339, -0.45256002],\n",
       "       ...,\n",
       "       [ 3.8138573 ,  3.8093921 ],\n",
       "       [ 3.83616415,  3.81930746],\n",
       "       [ 3.83120708,  3.82757026]])"
      ]
     },
     "execution_count": 9,
     "metadata": {},
     "output_type": "execute_result"
    }
   ],
   "source": [
    "scaler=StandardScaler()\n",
    "scaler.fit(input_data[:Ntrain+T])\n",
    "input_data_scaled=scaler.transform(input_data)\n",
    "input_data_scaled"
   ]
  },
  {
   "cell_type": "code",
   "execution_count": 10,
   "id": "30217d7c-42d9-4834-a1ba-ffaf4c55a52d",
   "metadata": {},
   "outputs": [],
   "source": [
    "X_train=np.zeros((Ntrain,T,D))\n",
    "y_train=np.zeros(Ntrain)\n"
   ]
  },
  {
   "cell_type": "code",
   "execution_count": 11,
   "id": "a76c315f-a370-4bab-a792-7c7428a7145b",
   "metadata": {},
   "outputs": [],
   "source": [
    "for t in range(Ntrain):\n",
    "    X_train[t, :, :]=input_data_scaled[t:t+T]\n",
    "    y_train[t]=(targets[t+T])\n",
    "\n",
    "\n"
   ]
  },
  {
   "cell_type": "code",
   "execution_count": 12,
   "id": "98f28d89-6fad-4302-a9fa-d06fb9868bed",
   "metadata": {},
   "outputs": [
    {
     "data": {
      "text/plain": [
       "((5712, 5, 2), (5712,))"
      ]
     },
     "execution_count": 12,
     "metadata": {},
     "output_type": "execute_result"
    }
   ],
   "source": [
    "X_test=np.zeros((N-Ntrain,T,D))\n",
    "y_test=np.zeros(N-Ntrain)\n",
    "\n",
    "for u in range(N- Ntrain):\n",
    "    t= u + Ntrain\n",
    "    X_test[u, :, :]=input_data[t:t+T]\n",
    "    y_test[u]=(targets[t+T])\n",
    "    \n",
    "X_test.shape, y_test.shape"
   ]
  },
  {
   "cell_type": "code",
   "execution_count": 13,
   "id": "f0e71adf-f471-401a-87fb-f21582650186",
   "metadata": {},
   "outputs": [
    {
     "name": "stderr",
     "output_type": "stream",
     "text": [
      "2024-03-09 15:00:48.397239: I external/local_xla/xla/stream_executor/cuda/cuda_executor.cc:984] could not open file to read NUMA node: /sys/bus/pci/devices/0000:01:00.0/numa_node\n",
      "Your kernel may have been built without NUMA support.\n",
      "2024-03-09 15:00:48.398764: W tensorflow/core/common_runtime/gpu/gpu_device.cc:2251] Cannot dlopen some GPU libraries. Please make sure the missing libraries mentioned above are installed properly if you would like to use GPU. Follow the guide at https://www.tensorflow.org/install/gpu for how to download and setup the required libraries for your platform.\n",
      "Skipping registering GPU devices...\n",
      "/home/behnaz/.pyenv/versions/3.11.6/lib/python3.11/site-packages/keras/src/layers/rnn/rnn.py:205: UserWarning: Do not pass an `input_shape`/`input_dim` argument to a layer. When using Sequential models, prefer using an `Input(shape)` object as the first layer in the model instead.\n",
      "  super().__init__(**kwargs)\n"
     ]
    },
    {
     "data": {
      "text/html": [
       "<pre style=\"white-space:pre;overflow-x:auto;line-height:normal;font-family:Menlo,'DejaVu Sans Mono',consolas,'Courier New',monospace\"><span style=\"font-weight: bold\">Model: \"sequential\"</span>\n",
       "</pre>\n"
      ],
      "text/plain": [
       "\u001b[1mModel: \"sequential\"\u001b[0m\n"
      ]
     },
     "metadata": {},
     "output_type": "display_data"
    },
    {
     "data": {
      "text/html": [
       "<pre style=\"white-space:pre;overflow-x:auto;line-height:normal;font-family:Menlo,'DejaVu Sans Mono',consolas,'Courier New',monospace\">┏━━━━━━━━━━━━━━━━━━━━━━━━━━━━━━━━━┳━━━━━━━━━━━━━━━━━━━━━━━━┳━━━━━━━━━━━━━━━┓\n",
       "┃<span style=\"font-weight: bold\"> Layer (type)                    </span>┃<span style=\"font-weight: bold\"> Output Shape           </span>┃<span style=\"font-weight: bold\">       Param # </span>┃\n",
       "┡━━━━━━━━━━━━━━━━━━━━━━━━━━━━━━━━━╇━━━━━━━━━━━━━━━━━━━━━━━━╇━━━━━━━━━━━━━━━┩\n",
       "│ lstm (<span style=\"color: #0087ff; text-decoration-color: #0087ff\">LSTM</span>)                     │ (<span style=\"color: #00d7ff; text-decoration-color: #00d7ff\">None</span>, <span style=\"color: #00af00; text-decoration-color: #00af00\">64</span>)             │        <span style=\"color: #00af00; text-decoration-color: #00af00\">17,152</span> │\n",
       "├─────────────────────────────────┼────────────────────────┼───────────────┤\n",
       "│ dense (<span style=\"color: #0087ff; text-decoration-color: #0087ff\">Dense</span>)                   │ (<span style=\"color: #00d7ff; text-decoration-color: #00d7ff\">None</span>, <span style=\"color: #00af00; text-decoration-color: #00af00\">8</span>)              │           <span style=\"color: #00af00; text-decoration-color: #00af00\">520</span> │\n",
       "├─────────────────────────────────┼────────────────────────┼───────────────┤\n",
       "│ dense_1 (<span style=\"color: #0087ff; text-decoration-color: #0087ff\">Dense</span>)                 │ (<span style=\"color: #00d7ff; text-decoration-color: #00d7ff\">None</span>, <span style=\"color: #00af00; text-decoration-color: #00af00\">1</span>)              │             <span style=\"color: #00af00; text-decoration-color: #00af00\">9</span> │\n",
       "└─────────────────────────────────┴────────────────────────┴───────────────┘\n",
       "</pre>\n"
      ],
      "text/plain": [
       "┏━━━━━━━━━━━━━━━━━━━━━━━━━━━━━━━━━┳━━━━━━━━━━━━━━━━━━━━━━━━┳━━━━━━━━━━━━━━━┓\n",
       "┃\u001b[1m \u001b[0m\u001b[1mLayer (type)                   \u001b[0m\u001b[1m \u001b[0m┃\u001b[1m \u001b[0m\u001b[1mOutput Shape          \u001b[0m\u001b[1m \u001b[0m┃\u001b[1m \u001b[0m\u001b[1m      Param #\u001b[0m\u001b[1m \u001b[0m┃\n",
       "┡━━━━━━━━━━━━━━━━━━━━━━━━━━━━━━━━━╇━━━━━━━━━━━━━━━━━━━━━━━━╇━━━━━━━━━━━━━━━┩\n",
       "│ lstm (\u001b[38;5;33mLSTM\u001b[0m)                     │ (\u001b[38;5;45mNone\u001b[0m, \u001b[38;5;34m64\u001b[0m)             │        \u001b[38;5;34m17,152\u001b[0m │\n",
       "├─────────────────────────────────┼────────────────────────┼───────────────┤\n",
       "│ dense (\u001b[38;5;33mDense\u001b[0m)                   │ (\u001b[38;5;45mNone\u001b[0m, \u001b[38;5;34m8\u001b[0m)              │           \u001b[38;5;34m520\u001b[0m │\n",
       "├─────────────────────────────────┼────────────────────────┼───────────────┤\n",
       "│ dense_1 (\u001b[38;5;33mDense\u001b[0m)                 │ (\u001b[38;5;45mNone\u001b[0m, \u001b[38;5;34m1\u001b[0m)              │             \u001b[38;5;34m9\u001b[0m │\n",
       "└─────────────────────────────────┴────────────────────────┴───────────────┘\n"
      ]
     },
     "metadata": {},
     "output_type": "display_data"
    },
    {
     "data": {
      "text/html": [
       "<pre style=\"white-space:pre;overflow-x:auto;line-height:normal;font-family:Menlo,'DejaVu Sans Mono',consolas,'Courier New',monospace\"><span style=\"font-weight: bold\"> Total params: </span><span style=\"color: #00af00; text-decoration-color: #00af00\">17,681</span> (69.07 KB)\n",
       "</pre>\n"
      ],
      "text/plain": [
       "\u001b[1m Total params: \u001b[0m\u001b[38;5;34m17,681\u001b[0m (69.07 KB)\n"
      ]
     },
     "metadata": {},
     "output_type": "display_data"
    },
    {
     "data": {
      "text/html": [
       "<pre style=\"white-space:pre;overflow-x:auto;line-height:normal;font-family:Menlo,'DejaVu Sans Mono',consolas,'Courier New',monospace\"><span style=\"font-weight: bold\"> Trainable params: </span><span style=\"color: #00af00; text-decoration-color: #00af00\">17,681</span> (69.07 KB)\n",
       "</pre>\n"
      ],
      "text/plain": [
       "\u001b[1m Trainable params: \u001b[0m\u001b[38;5;34m17,681\u001b[0m (69.07 KB)\n"
      ]
     },
     "metadata": {},
     "output_type": "display_data"
    },
    {
     "data": {
      "text/html": [
       "<pre style=\"white-space:pre;overflow-x:auto;line-height:normal;font-family:Menlo,'DejaVu Sans Mono',consolas,'Courier New',monospace\"><span style=\"font-weight: bold\"> Non-trainable params: </span><span style=\"color: #00af00; text-decoration-color: #00af00\">0</span> (0.00 B)\n",
       "</pre>\n"
      ],
      "text/plain": [
       "\u001b[1m Non-trainable params: \u001b[0m\u001b[38;5;34m0\u001b[0m (0.00 B)\n"
      ]
     },
     "metadata": {},
     "output_type": "display_data"
    }
   ],
   "source": [
    "T = 5\n",
    "D = input_data.shape[1]\n",
    "model=Sequential()\n",
    "model.add(LSTM(64, input_shape=(T, D)))\n",
    "model.add(Dense(8, activation='relu'))\n",
    "model.add(Dense(1, activation='sigmoid'))\n",
    "model.summary()"
   ]
  },
  {
   "cell_type": "code",
   "execution_count": 14,
   "id": "889a47ef-40d3-475f-9761-8d58df7040f9",
   "metadata": {},
   "outputs": [],
   "source": [
    "model.compile(\n",
    "    loss='binary_crossentropy',\n",
    "    optimizer= 'Adam',\n",
    "    metrics=['accuracy']\n",
    ")"
   ]
  },
  {
   "cell_type": "code",
   "execution_count": 15,
   "id": "4a13262f-9fdb-4ce6-807c-e4104503c1b1",
   "metadata": {},
   "outputs": [],
   "source": [
    "from tensorflow.keras.callbacks import EarlyStopping"
   ]
  },
  {
   "cell_type": "code",
   "execution_count": 16,
   "id": "0ba4e01e-a423-43f3-ba61-9b167da3ef29",
   "metadata": {},
   "outputs": [
    {
     "name": "stdout",
     "output_type": "stream",
     "text": [
      "Requirement already satisfied: tensorflow in /home/behnaz/.pyenv/versions/3.11.6/lib/python3.11/site-packages (2.16.1)\n",
      "Requirement already satisfied: absl-py>=1.0.0 in /home/behnaz/.pyenv/versions/3.11.6/lib/python3.11/site-packages (from tensorflow) (1.4.0)\n",
      "Requirement already satisfied: astunparse>=1.6.0 in /home/behnaz/.pyenv/versions/3.11.6/lib/python3.11/site-packages (from tensorflow) (1.6.3)\n",
      "Requirement already satisfied: flatbuffers>=23.5.26 in /home/behnaz/.pyenv/versions/3.11.6/lib/python3.11/site-packages (from tensorflow) (23.5.26)\n",
      "Requirement already satisfied: gast!=0.5.0,!=0.5.1,!=0.5.2,>=0.2.1 in /home/behnaz/.pyenv/versions/3.11.6/lib/python3.11/site-packages (from tensorflow) (0.5.4)\n",
      "Requirement already satisfied: google-pasta>=0.1.1 in /home/behnaz/.pyenv/versions/3.11.6/lib/python3.11/site-packages (from tensorflow) (0.2.0)\n",
      "Requirement already satisfied: h5py>=3.10.0 in /home/behnaz/.pyenv/versions/3.11.6/lib/python3.11/site-packages (from tensorflow) (3.10.0)\n",
      "Requirement already satisfied: libclang>=13.0.0 in /home/behnaz/.pyenv/versions/3.11.6/lib/python3.11/site-packages (from tensorflow) (16.0.6)\n",
      "Requirement already satisfied: ml-dtypes~=0.3.1 in /home/behnaz/.pyenv/versions/3.11.6/lib/python3.11/site-packages (from tensorflow) (0.3.2)\n",
      "Requirement already satisfied: opt-einsum>=2.3.2 in /home/behnaz/.pyenv/versions/3.11.6/lib/python3.11/site-packages (from tensorflow) (3.3.0)\n",
      "Requirement already satisfied: packaging in /home/behnaz/.pyenv/versions/3.11.6/lib/python3.11/site-packages (from tensorflow) (23.2)\n",
      "Requirement already satisfied: protobuf!=4.21.0,!=4.21.1,!=4.21.2,!=4.21.3,!=4.21.4,!=4.21.5,<5.0.0dev,>=3.20.3 in /home/behnaz/.pyenv/versions/3.11.6/lib/python3.11/site-packages (from tensorflow) (3.20.3)\n",
      "Requirement already satisfied: requests<3,>=2.21.0 in /home/behnaz/.pyenv/versions/3.11.6/lib/python3.11/site-packages (from tensorflow) (2.28.2)\n",
      "Requirement already satisfied: setuptools in /home/behnaz/.pyenv/versions/3.11.6/lib/python3.11/site-packages (from tensorflow) (65.5.0)\n",
      "Requirement already satisfied: six>=1.12.0 in /home/behnaz/.pyenv/versions/3.11.6/lib/python3.11/site-packages (from tensorflow) (1.16.0)\n",
      "Requirement already satisfied: termcolor>=1.1.0 in /home/behnaz/.pyenv/versions/3.11.6/lib/python3.11/site-packages (from tensorflow) (2.4.0)\n",
      "Requirement already satisfied: typing-extensions>=3.6.6 in /home/behnaz/.pyenv/versions/3.11.6/lib/python3.11/site-packages (from tensorflow) (4.8.0)\n",
      "Requirement already satisfied: wrapt>=1.11.0 in /home/behnaz/.pyenv/versions/3.11.6/lib/python3.11/site-packages (from tensorflow) (1.14.1)\n",
      "Requirement already satisfied: grpcio<2.0,>=1.24.3 in /home/behnaz/.pyenv/versions/3.11.6/lib/python3.11/site-packages (from tensorflow) (1.60.0)\n",
      "Requirement already satisfied: tensorboard<2.17,>=2.16 in /home/behnaz/.pyenv/versions/3.11.6/lib/python3.11/site-packages (from tensorflow) (2.16.2)\n",
      "Requirement already satisfied: keras>=3.0.0 in /home/behnaz/.pyenv/versions/3.11.6/lib/python3.11/site-packages (from tensorflow) (3.0.5)\n",
      "Requirement already satisfied: tensorflow-io-gcs-filesystem>=0.23.1 in /home/behnaz/.pyenv/versions/3.11.6/lib/python3.11/site-packages (from tensorflow) (0.35.0)\n",
      "Requirement already satisfied: numpy<2.0.0,>=1.23.5 in /home/behnaz/.pyenv/versions/3.11.6/lib/python3.11/site-packages (from tensorflow) (1.23.5)\n",
      "Requirement already satisfied: wheel<1.0,>=0.23.0 in /home/behnaz/.pyenv/versions/3.11.6/lib/python3.11/site-packages (from astunparse>=1.6.0->tensorflow) (0.42.0)\n",
      "Requirement already satisfied: rich in /home/behnaz/.pyenv/versions/3.11.6/lib/python3.11/site-packages (from keras>=3.0.0->tensorflow) (13.7.1)\n",
      "Requirement already satisfied: namex in /home/behnaz/.pyenv/versions/3.11.6/lib/python3.11/site-packages (from keras>=3.0.0->tensorflow) (0.0.7)\n",
      "Requirement already satisfied: dm-tree in /home/behnaz/.pyenv/versions/3.11.6/lib/python3.11/site-packages (from keras>=3.0.0->tensorflow) (0.1.8)\n",
      "Requirement already satisfied: charset-normalizer<4,>=2 in /home/behnaz/.pyenv/versions/3.11.6/lib/python3.11/site-packages (from requests<3,>=2.21.0->tensorflow) (3.3.1)\n",
      "Requirement already satisfied: idna<4,>=2.5 in /home/behnaz/.pyenv/versions/3.11.6/lib/python3.11/site-packages (from requests<3,>=2.21.0->tensorflow) (3.4)\n",
      "Requirement already satisfied: urllib3<1.27,>=1.21.1 in /home/behnaz/.pyenv/versions/3.11.6/lib/python3.11/site-packages (from requests<3,>=2.21.0->tensorflow) (1.26.18)\n",
      "Requirement already satisfied: certifi>=2017.4.17 in /home/behnaz/.pyenv/versions/3.11.6/lib/python3.11/site-packages (from requests<3,>=2.21.0->tensorflow) (2023.7.22)\n",
      "Requirement already satisfied: markdown>=2.6.8 in /home/behnaz/.pyenv/versions/3.11.6/lib/python3.11/site-packages (from tensorboard<2.17,>=2.16->tensorflow) (3.5.2)\n",
      "Requirement already satisfied: tensorboard-data-server<0.8.0,>=0.7.0 in /home/behnaz/.pyenv/versions/3.11.6/lib/python3.11/site-packages (from tensorboard<2.17,>=2.16->tensorflow) (0.7.2)\n",
      "Requirement already satisfied: werkzeug>=1.0.1 in /home/behnaz/.pyenv/versions/3.11.6/lib/python3.11/site-packages (from tensorboard<2.17,>=2.16->tensorflow) (3.0.1)\n",
      "Requirement already satisfied: MarkupSafe>=2.1.1 in /home/behnaz/.pyenv/versions/3.11.6/lib/python3.11/site-packages (from werkzeug>=1.0.1->tensorboard<2.17,>=2.16->tensorflow) (2.1.3)\n",
      "Requirement already satisfied: markdown-it-py>=2.2.0 in /home/behnaz/.pyenv/versions/3.11.6/lib/python3.11/site-packages (from rich->keras>=3.0.0->tensorflow) (3.0.0)\n",
      "Requirement already satisfied: pygments<3.0.0,>=2.13.0 in /home/behnaz/.pyenv/versions/3.11.6/lib/python3.11/site-packages (from rich->keras>=3.0.0->tensorflow) (2.16.1)\n",
      "Requirement already satisfied: mdurl~=0.1 in /home/behnaz/.pyenv/versions/3.11.6/lib/python3.11/site-packages (from markdown-it-py>=2.2.0->rich->keras>=3.0.0->tensorflow) (0.1.2)\n",
      "Note: you may need to restart the kernel to use updated packages.\n"
     ]
    }
   ],
   "source": [
    "pip install --upgrade tensorflow"
   ]
  },
  {
   "cell_type": "code",
   "execution_count": 17,
   "id": "e063a051-e5ad-412c-a06b-bcb145648171",
   "metadata": {},
   "outputs": [
    {
     "name": "stdout",
     "output_type": "stream",
     "text": [
      "Epoch 1/10\n",
      "\u001b[1m572/572\u001b[0m \u001b[32m━━━━━━━━━━━━━━━━━━━━\u001b[0m\u001b[37m\u001b[0m \u001b[1m14s\u001b[0m 15ms/step - accuracy: 0.5586 - loss: nan - val_accuracy: 0.5595 - val_loss: nan\n",
      "Epoch 2/10\n",
      "\u001b[1m572/572\u001b[0m \u001b[32m━━━━━━━━━━━━━━━━━━━━\u001b[0m\u001b[37m\u001b[0m \u001b[1m7s\u001b[0m 12ms/step - accuracy: 0.5681 - loss: nan - val_accuracy: 0.5595 - val_loss: nan\n",
      "Epoch 3/10\n",
      "\u001b[1m572/572\u001b[0m \u001b[32m━━━━━━━━━━━━━━━━━━━━\u001b[0m\u001b[37m\u001b[0m \u001b[1m8s\u001b[0m 14ms/step - accuracy: 0.5625 - loss: nan - val_accuracy: 0.5595 - val_loss: nan\n",
      "Epoch 4/10\n",
      "\u001b[1m572/572\u001b[0m \u001b[32m━━━━━━━━━━━━━━━━━━━━\u001b[0m\u001b[37m\u001b[0m \u001b[1m5s\u001b[0m 8ms/step - accuracy: 0.5548 - loss: nan - val_accuracy: 0.5595 - val_loss: nan\n",
      "Epoch 5/10\n",
      "\u001b[1m572/572\u001b[0m \u001b[32m━━━━━━━━━━━━━━━━━━━━\u001b[0m\u001b[37m\u001b[0m \u001b[1m8s\u001b[0m 14ms/step - accuracy: 0.5540 - loss: nan - val_accuracy: 0.5595 - val_loss: nan\n",
      "Epoch 6/10\n",
      "\u001b[1m572/572\u001b[0m \u001b[32m━━━━━━━━━━━━━━━━━━━━\u001b[0m\u001b[37m\u001b[0m \u001b[1m7s\u001b[0m 12ms/step - accuracy: 0.5624 - loss: nan - val_accuracy: 0.5595 - val_loss: nan\n",
      "Epoch 7/10\n",
      "\u001b[1m572/572\u001b[0m \u001b[32m━━━━━━━━━━━━━━━━━━━━\u001b[0m\u001b[37m\u001b[0m \u001b[1m9s\u001b[0m 16ms/step - accuracy: 0.5638 - loss: nan - val_accuracy: 0.5595 - val_loss: nan\n",
      "Epoch 8/10\n",
      "\u001b[1m572/572\u001b[0m \u001b[32m━━━━━━━━━━━━━━━━━━━━\u001b[0m\u001b[37m\u001b[0m \u001b[1m5s\u001b[0m 8ms/step - accuracy: 0.5602 - loss: nan - val_accuracy: 0.5595 - val_loss: nan\n",
      "Epoch 9/10\n",
      "\u001b[1m572/572\u001b[0m \u001b[32m━━━━━━━━━━━━━━━━━━━━\u001b[0m\u001b[37m\u001b[0m \u001b[1m5s\u001b[0m 9ms/step - accuracy: 0.5544 - loss: nan - val_accuracy: 0.5595 - val_loss: nan\n",
      "Epoch 10/10\n",
      "\u001b[1m572/572\u001b[0m \u001b[32m━━━━━━━━━━━━━━━━━━━━\u001b[0m\u001b[37m\u001b[0m \u001b[1m7s\u001b[0m 13ms/step - accuracy: 0.5586 - loss: nan - val_accuracy: 0.5595 - val_loss: nan\n"
     ]
    }
   ],
   "source": [
    "#from tensorflow.keras.callbacks import EarlyStopping\n",
    "\n",
    "#es = EarlyStopping(patience=5, restore_best_weights=True)\n",
    "#callbacks=[es],\n",
    "\n",
    "history = model.fit(X_train, y_train,\n",
    "                    validation_split=0.2,\n",
    "                    batch_size=32, \n",
    "                    epochs=10, \n",
    "                    verbose=1)"
   ]
  },
  {
   "cell_type": "code",
   "execution_count": null,
   "id": "2146a14f-f92e-4125-86c1-251516d05d68",
   "metadata": {},
   "outputs": [],
   "source": []
  },
  {
   "cell_type": "code",
   "execution_count": null,
   "id": "0729a1dc-9f2e-4b82-8696-bb14643d5f79",
   "metadata": {},
   "outputs": [],
   "source": []
  }
 ],
 "metadata": {
  "kernelspec": {
   "display_name": "Python 3 (ipykernel)",
   "language": "python",
   "name": "python3"
  },
  "language_info": {
   "codemirror_mode": {
    "name": "ipython",
    "version": 3
   },
   "file_extension": ".py",
   "mimetype": "text/x-python",
   "name": "python",
   "nbconvert_exporter": "python",
   "pygments_lexer": "ipython3",
   "version": "3.11.6"
  }
 },
 "nbformat": 4,
 "nbformat_minor": 5
}
