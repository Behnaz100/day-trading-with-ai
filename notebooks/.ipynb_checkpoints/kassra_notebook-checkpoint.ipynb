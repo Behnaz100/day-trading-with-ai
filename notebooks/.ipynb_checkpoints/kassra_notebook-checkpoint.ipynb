{
 "cells": [
  {
   "cell_type": "markdown",
   "id": "b9dbd01773e0729d",
   "metadata": {},
   "source": [
    "look-head bias"
   ]
  },
  {
   "cell_type": "markdown",
   "id": "30eed54e703ce969",
   "metadata": {},
   "source": [
    "# BaseLine Model\n",
    "out-of-sample forcasting"
   ]
  },
  {
   "cell_type": "code",
   "execution_count": 28,
   "id": "39dbcbed38da04a3",
   "metadata": {
    "ExecuteTime": {
     "end_time": "2024-03-07T19:36:37.297856Z",
     "start_time": "2024-03-07T19:36:36.978277Z"
    }
   },
   "outputs": [],
   "source": [
    "import pandas as pd\n",
    "import numpy as np\n",
    "import matplotlib.pyplot as plt"
   ]
  },
  {
   "cell_type": "code",
   "execution_count": 5,
   "id": "e17dcff23f44d597",
   "metadata": {
    "ExecuteTime": {
     "end_time": "2024-03-07T18:27:38.823777Z",
     "start_time": "2024-03-07T18:27:38.818647Z"
    }
   },
   "outputs": [],
   "source": [
    "# df = pd.read_csv(\"/Users/kassraniroumand/Documents/pycharm/pythonProject11/TimeSeriesForecastingInPython-master/data/widget_sales.csv\")"
   ]
  },
  {
   "cell_type": "code",
   "execution_count": 36,
   "id": "1a16a34966d3714f",
   "metadata": {
    "ExecuteTime": {
     "end_time": "2024-03-07T19:41:59.718126Z",
     "start_time": "2024-03-07T19:41:59.705902Z"
    }
   },
   "outputs": [],
   "source": [
    "# df.head()"
   ]
  },
  {
   "cell_type": "code",
   "execution_count": 141,
   "id": "e15301a4d6cfa08c",
   "metadata": {
    "ExecuteTime": {
     "end_time": "2024-03-07T20:33:52.842168Z",
     "start_time": "2024-03-07T20:33:50.548573Z"
    }
   },
   "outputs": [],
   "source": [
    "fx_df = pd.read_csv(\"/Users/kassraniroumand/Downloads/archive/EURUSD_M1_200001030001_201912312259.csv\", delimiter=\"\\t\")"
   ]
  },
  {
   "cell_type": "code",
   "execution_count": 142,
   "id": "9916155bdfb35eb6",
   "metadata": {
    "ExecuteTime": {
     "end_time": "2024-03-07T20:33:53.411713Z",
     "start_time": "2024-03-07T20:33:53.406223Z"
    }
   },
   "outputs": [],
   "source": [
    "fx_df.rename(columns={\n",
    "    \"<DATE>\": \"date\",\n",
    "    \"<TIME>\": \"time\",\n",
    "    \"<OPEN>\": \"open\",\n",
    "    \"<HIGH>\": \"high\",\n",
    "    \"<LOW>\": \"low\",\n",
    "    \"<CLOSE>\": \"close\",\n",
    "    \"<TICKVOL>\": \"tick_volume\",\n",
    "    \"<VOL>\": \"volume\",\n",
    "    \"<SPREAD>\": \"spread\"\n",
    "}, inplace=True)"
   ]
  },
  {
   "cell_type": "code",
   "execution_count": 142,
   "id": "c95887d6ed4378d7",
   "metadata": {
    "ExecuteTime": {
     "end_time": "2024-03-07T20:33:53.909195Z",
     "start_time": "2024-03-07T20:33:53.904823Z"
    }
   },
   "outputs": [],
   "source": []
  },
  {
   "cell_type": "code",
   "execution_count": 143,
   "id": "df6d60b8cb474957",
   "metadata": {
    "ExecuteTime": {
     "end_time": "2024-03-07T20:33:54.416752Z",
     "start_time": "2024-03-07T20:33:54.413615Z"
    }
   },
   "outputs": [
    {
     "data": {
      "text/html": [
       "<div>\n",
       "<style scoped>\n",
       "    .dataframe tbody tr th:only-of-type {\n",
       "        vertical-align: middle;\n",
       "    }\n",
       "\n",
       "    .dataframe tbody tr th {\n",
       "        vertical-align: top;\n",
       "    }\n",
       "\n",
       "    .dataframe thead th {\n",
       "        text-align: right;\n",
       "    }\n",
       "</style>\n",
       "<table border=\"1\" class=\"dataframe\">\n",
       "  <thead>\n",
       "    <tr style=\"text-align: right;\">\n",
       "      <th></th>\n",
       "      <th>date</th>\n",
       "      <th>time</th>\n",
       "      <th>open</th>\n",
       "      <th>high</th>\n",
       "      <th>low</th>\n",
       "      <th>close</th>\n",
       "      <th>tick_volume</th>\n",
       "      <th>volume</th>\n",
       "      <th>spread</th>\n",
       "    </tr>\n",
       "  </thead>\n",
       "  <tbody>\n",
       "    <tr>\n",
       "      <th>0</th>\n",
       "      <td>2000.01.03</td>\n",
       "      <td>00:01:00</td>\n",
       "      <td>1.0073</td>\n",
       "      <td>1.0075</td>\n",
       "      <td>1.0073</td>\n",
       "      <td>1.0073</td>\n",
       "      <td>5</td>\n",
       "      <td>0</td>\n",
       "      <td>50</td>\n",
       "    </tr>\n",
       "    <tr>\n",
       "      <th>1</th>\n",
       "      <td>2000.01.03</td>\n",
       "      <td>00:02:00</td>\n",
       "      <td>1.0079</td>\n",
       "      <td>1.0079</td>\n",
       "      <td>1.0079</td>\n",
       "      <td>1.0079</td>\n",
       "      <td>1</td>\n",
       "      <td>0</td>\n",
       "      <td>50</td>\n",
       "    </tr>\n",
       "    <tr>\n",
       "      <th>2</th>\n",
       "      <td>2000.01.03</td>\n",
       "      <td>00:04:00</td>\n",
       "      <td>1.0078</td>\n",
       "      <td>1.0080</td>\n",
       "      <td>1.0077</td>\n",
       "      <td>1.0080</td>\n",
       "      <td>4</td>\n",
       "      <td>0</td>\n",
       "      <td>50</td>\n",
       "    </tr>\n",
       "    <tr>\n",
       "      <th>3</th>\n",
       "      <td>2000.01.03</td>\n",
       "      <td>00:12:00</td>\n",
       "      <td>1.0079</td>\n",
       "      <td>1.0079</td>\n",
       "      <td>1.0079</td>\n",
       "      <td>1.0079</td>\n",
       "      <td>1</td>\n",
       "      <td>0</td>\n",
       "      <td>50</td>\n",
       "    </tr>\n",
       "    <tr>\n",
       "      <th>4</th>\n",
       "      <td>2000.01.03</td>\n",
       "      <td>00:13:00</td>\n",
       "      <td>1.0080</td>\n",
       "      <td>1.0080</td>\n",
       "      <td>1.0077</td>\n",
       "      <td>1.0077</td>\n",
       "      <td>4</td>\n",
       "      <td>0</td>\n",
       "      <td>50</td>\n",
       "    </tr>\n",
       "  </tbody>\n",
       "</table>\n",
       "</div>"
      ],
      "text/plain": [
       "         date      time    open    high     low   close  tick_volume  volume  \\\n",
       "0  2000.01.03  00:01:00  1.0073  1.0075  1.0073  1.0073            5       0   \n",
       "1  2000.01.03  00:02:00  1.0079  1.0079  1.0079  1.0079            1       0   \n",
       "2  2000.01.03  00:04:00  1.0078  1.0080  1.0077  1.0080            4       0   \n",
       "3  2000.01.03  00:12:00  1.0079  1.0079  1.0079  1.0079            1       0   \n",
       "4  2000.01.03  00:13:00  1.0080  1.0080  1.0077  1.0077            4       0   \n",
       "\n",
       "   spread  \n",
       "0      50  \n",
       "1      50  \n",
       "2      50  \n",
       "3      50  \n",
       "4      50  "
      ]
     },
     "execution_count": 143,
     "metadata": {},
     "output_type": "execute_result"
    }
   ],
   "source": [
    "fx_df.head()"
   ]
  },
  {
   "cell_type": "code",
   "execution_count": 143,
   "id": "58242974ceab2a3a",
   "metadata": {
    "ExecuteTime": {
     "end_time": "2024-03-07T20:33:55.574412Z",
     "start_time": "2024-03-07T20:33:55.567650Z"
    }
   },
   "outputs": [],
   "source": []
  },
  {
   "cell_type": "code",
   "execution_count": 144,
   "id": "f918cc8b26384892",
   "metadata": {
    "ExecuteTime": {
     "end_time": "2024-03-07T20:33:56.013568Z",
     "start_time": "2024-03-07T20:33:56.007964Z"
    }
   },
   "outputs": [],
   "source": [
    "to_datetime = lambda x: pd.to_datetime(x, format=\"%Y%m%d %H:%M:%S\")"
   ]
  },
  {
   "cell_type": "code",
   "execution_count": 145,
   "id": "3362667f9dd06190",
   "metadata": {
    "ExecuteTime": {
     "end_time": "2024-03-07T20:33:57.080823Z",
     "start_time": "2024-03-07T20:33:56.594450Z"
    }
   },
   "outputs": [],
   "source": [
    "fx_df[\"datetime\"] = fx_df[\"date\"] + \" \" + fx_df[\"time\"]"
   ]
  },
  {
   "cell_type": "code",
   "execution_count": 146,
   "id": "efea7a3a3e49c0f9",
   "metadata": {
    "ExecuteTime": {
     "end_time": "2024-03-07T20:33:57.612849Z",
     "start_time": "2024-03-07T20:33:57.607637Z"
    }
   },
   "outputs": [
    {
     "data": {
      "text/html": [
       "<div>\n",
       "<style scoped>\n",
       "    .dataframe tbody tr th:only-of-type {\n",
       "        vertical-align: middle;\n",
       "    }\n",
       "\n",
       "    .dataframe tbody tr th {\n",
       "        vertical-align: top;\n",
       "    }\n",
       "\n",
       "    .dataframe thead th {\n",
       "        text-align: right;\n",
       "    }\n",
       "</style>\n",
       "<table border=\"1\" class=\"dataframe\">\n",
       "  <thead>\n",
       "    <tr style=\"text-align: right;\">\n",
       "      <th></th>\n",
       "      <th>date</th>\n",
       "      <th>time</th>\n",
       "      <th>open</th>\n",
       "      <th>high</th>\n",
       "      <th>low</th>\n",
       "      <th>close</th>\n",
       "      <th>tick_volume</th>\n",
       "      <th>volume</th>\n",
       "      <th>spread</th>\n",
       "      <th>datetime</th>\n",
       "    </tr>\n",
       "  </thead>\n",
       "  <tbody>\n",
       "    <tr>\n",
       "      <th>7245099</th>\n",
       "      <td>2019.12.31</td>\n",
       "      <td>22:55:00</td>\n",
       "      <td>1.12152</td>\n",
       "      <td>1.12157</td>\n",
       "      <td>1.12150</td>\n",
       "      <td>1.12157</td>\n",
       "      <td>14</td>\n",
       "      <td>0</td>\n",
       "      <td>9</td>\n",
       "      <td>2019.12.31 22:55:00</td>\n",
       "    </tr>\n",
       "    <tr>\n",
       "      <th>7245100</th>\n",
       "      <td>2019.12.31</td>\n",
       "      <td>22:56:00</td>\n",
       "      <td>1.12158</td>\n",
       "      <td>1.12167</td>\n",
       "      <td>1.12158</td>\n",
       "      <td>1.12163</td>\n",
       "      <td>24</td>\n",
       "      <td>0</td>\n",
       "      <td>10</td>\n",
       "      <td>2019.12.31 22:56:00</td>\n",
       "    </tr>\n",
       "    <tr>\n",
       "      <th>7245101</th>\n",
       "      <td>2019.12.31</td>\n",
       "      <td>22:57:00</td>\n",
       "      <td>1.12163</td>\n",
       "      <td>1.12163</td>\n",
       "      <td>1.12153</td>\n",
       "      <td>1.12158</td>\n",
       "      <td>36</td>\n",
       "      <td>0</td>\n",
       "      <td>9</td>\n",
       "      <td>2019.12.31 22:57:00</td>\n",
       "    </tr>\n",
       "    <tr>\n",
       "      <th>7245102</th>\n",
       "      <td>2019.12.31</td>\n",
       "      <td>22:58:00</td>\n",
       "      <td>1.12158</td>\n",
       "      <td>1.12167</td>\n",
       "      <td>1.12158</td>\n",
       "      <td>1.12167</td>\n",
       "      <td>18</td>\n",
       "      <td>0</td>\n",
       "      <td>9</td>\n",
       "      <td>2019.12.31 22:58:00</td>\n",
       "    </tr>\n",
       "    <tr>\n",
       "      <th>7245103</th>\n",
       "      <td>2019.12.31</td>\n",
       "      <td>22:59:00</td>\n",
       "      <td>1.12169</td>\n",
       "      <td>1.12175</td>\n",
       "      <td>1.12166</td>\n",
       "      <td>1.12171</td>\n",
       "      <td>66</td>\n",
       "      <td>0</td>\n",
       "      <td>8</td>\n",
       "      <td>2019.12.31 22:59:00</td>\n",
       "    </tr>\n",
       "  </tbody>\n",
       "</table>\n",
       "</div>"
      ],
      "text/plain": [
       "               date      time     open     high      low    close  \\\n",
       "7245099  2019.12.31  22:55:00  1.12152  1.12157  1.12150  1.12157   \n",
       "7245100  2019.12.31  22:56:00  1.12158  1.12167  1.12158  1.12163   \n",
       "7245101  2019.12.31  22:57:00  1.12163  1.12163  1.12153  1.12158   \n",
       "7245102  2019.12.31  22:58:00  1.12158  1.12167  1.12158  1.12167   \n",
       "7245103  2019.12.31  22:59:00  1.12169  1.12175  1.12166  1.12171   \n",
       "\n",
       "         tick_volume  volume  spread             datetime  \n",
       "7245099           14       0       9  2019.12.31 22:55:00  \n",
       "7245100           24       0      10  2019.12.31 22:56:00  \n",
       "7245101           36       0       9  2019.12.31 22:57:00  \n",
       "7245102           18       0       9  2019.12.31 22:58:00  \n",
       "7245103           66       0       8  2019.12.31 22:59:00  "
      ]
     },
     "execution_count": 146,
     "metadata": {},
     "output_type": "execute_result"
    }
   ],
   "source": [
    "fx_df.tail()"
   ]
  },
  {
   "cell_type": "code",
   "execution_count": 147,
   "id": "5f34de122253f59f",
   "metadata": {
    "ExecuteTime": {
     "end_time": "2024-03-07T20:34:04.802832Z",
     "start_time": "2024-03-07T20:34:03.758669Z"
    }
   },
   "outputs": [],
   "source": [
    "fx_df[\"datetime\"] = fx_df[\"date\"] + \" \" + fx_df[\"time\"];\n",
    "fx_df['datetime'] = pd.to_datetime(fx_df['datetime'])\n",
    "fx_df.set_index('datetime', inplace=True)\n"
   ]
  },
  {
   "cell_type": "code",
   "execution_count": 148,
   "id": "85fd4cae239b46a8",
   "metadata": {
    "ExecuteTime": {
     "end_time": "2024-03-07T20:34:09.471184Z",
     "start_time": "2024-03-07T20:34:05.965457Z"
    }
   },
   "outputs": [
    {
     "data": {
      "text/plain": [
       "date        time      open     high     low      close    tick_volume  volume  spread\n",
       "2000.01.03  00:01:00  1.00730  1.00750  1.00730  1.00730  5            0       50        1\n",
       "2013.06.26  04:43:00  1.30763  1.30764  1.30759  1.30763  22           0       1         1\n",
       "            04:54:00  1.30753  1.30753  1.30734  1.30740  40           0       2         1\n",
       "            04:53:00  1.30765  1.30767  1.30754  1.30754  20           0       2         1\n",
       "            04:52:00  1.30764  1.30765  1.30760  1.30764  15           0       1         1\n",
       "                                                                                        ..\n",
       "2006.08.25  08:13:00  1.27670  1.27670  1.27630  1.27650  4            0       20        1\n",
       "            08:12:00  1.27650  1.27670  1.27630  1.27650  6            0       20        1\n",
       "            08:11:00  1.27680  1.27680  1.27620  1.27650  6            0       20        1\n",
       "            08:10:00  1.27660  1.27670  1.27630  1.27650  6            0       20        1\n",
       "2019.12.31  22:59:00  1.12169  1.12175  1.12166  1.12171  66           0       8         1\n",
       "Length: 7245104, dtype: int64"
      ]
     },
     "execution_count": 148,
     "metadata": {},
     "output_type": "execute_result"
    }
   ],
   "source": [
    "fx_df.value_counts()"
   ]
  },
  {
   "cell_type": "code",
   "execution_count": 149,
   "id": "7ac53a7464bc29cd",
   "metadata": {
    "ExecuteTime": {
     "end_time": "2024-03-07T20:34:21.206771Z",
     "start_time": "2024-03-07T20:34:21.177355Z"
    }
   },
   "outputs": [],
   "source": []
  },
  {
   "cell_type": "code",
   "execution_count": 138,
   "id": "404c7acf72cce027",
   "metadata": {
    "ExecuteTime": {
     "end_time": "2024-03-07T20:21:10.504815Z",
     "start_time": "2024-03-07T20:21:05.184058Z"
    }
   },
   "outputs": [
    {
     "data": {
      "text/plain": [
       "<AxesSubplot:xlabel='datetime'>"
      ]
     },
     "execution_count": 138,
     "metadata": {},
     "output_type": "execute_result"
    },
    {
     "data": {
      "image/png": "[encoded data removed]",
      "text/plain": [
       "<Figure size 640x480 with 1 Axes>"
      ]
     },
     "metadata": {},
     "output_type": "display_data"
    }
   ],
   "source": [
    "fx_df['volume'].plot()"
   ]
  },
  {
   "cell_type": "code",
   "execution_count": 150,
   "id": "1b693163c1fc02b1",
   "metadata": {
    "ExecuteTime": {
     "end_time": "2024-03-07T20:35:04.726934Z",
     "start_time": "2024-03-07T20:35:04.718505Z"
    }
   },
   "outputs": [
    {
     "data": {
      "text/plain": [
       "Timestamp('2010-06-03 10:25:00')"
      ]
     },
     "execution_count": 150,
     "metadata": {},
     "output_type": "execute_result"
    }
   ],
   "source": [
    "fx_df['volume'].ne(0).idxmax()"
   ]
  },
  {
   "cell_type": "code",
   "execution_count": 151,
   "id": "c58a73daa2b73a68",
   "metadata": {
    "ExecuteTime": {
     "end_time": "2024-03-07T20:36:51.088012Z",
     "start_time": "2024-03-07T20:36:51.077618Z"
    }
   },
   "outputs": [],
   "source": []
  },
  {
   "cell_type": "markdown",
   "id": "aae4d08242092571",
   "metadata": {},
   "source": [
    "testing the volume"
   ]
  },
  {
   "cell_type": "code",
   "execution_count": 154,
   "id": "156ec7689e070075",
   "metadata": {
    "ExecuteTime": {
     "end_time": "2024-03-07T20:38:34.869279Z",
     "start_time": "2024-03-07T20:38:34.861239Z"
    }
   },
   "outputs": [
    {
     "data": {
      "text/html": [
       "<div>\n",
       "<style scoped>\n",
       "    .dataframe tbody tr th:only-of-type {\n",
       "        vertical-align: middle;\n",
       "    }\n",
       "\n",
       "    .dataframe tbody tr th {\n",
       "        vertical-align: top;\n",
       "    }\n",
       "\n",
       "    .dataframe thead th {\n",
       "        text-align: right;\n",
       "    }\n",
       "</style>\n",
       "<table border=\"1\" class=\"dataframe\">\n",
       "  <thead>\n",
       "    <tr style=\"text-align: right;\">\n",
       "      <th></th>\n",
       "      <th>date</th>\n",
       "      <th>time</th>\n",
       "      <th>open</th>\n",
       "      <th>high</th>\n",
       "      <th>low</th>\n",
       "      <th>close</th>\n",
       "      <th>tick_volume</th>\n",
       "      <th>volume</th>\n",
       "      <th>spread</th>\n",
       "    </tr>\n",
       "    <tr>\n",
       "      <th>datetime</th>\n",
       "      <th></th>\n",
       "      <th></th>\n",
       "      <th></th>\n",
       "      <th></th>\n",
       "      <th></th>\n",
       "      <th></th>\n",
       "      <th></th>\n",
       "      <th></th>\n",
       "      <th></th>\n",
       "    </tr>\n",
       "  </thead>\n",
       "  <tbody>\n",
       "    <tr>\n",
       "      <th>2016-01-11 00:01:00</th>\n",
       "      <td>2016.01.11</td>\n",
       "      <td>00:01:00</td>\n",
       "      <td>1.09171</td>\n",
       "      <td>1.09196</td>\n",
       "      <td>1.09171</td>\n",
       "      <td>1.09171</td>\n",
       "      <td>3</td>\n",
       "      <td>3000000</td>\n",
       "      <td>31</td>\n",
       "    </tr>\n",
       "    <tr>\n",
       "      <th>2016-01-11 00:02:00</th>\n",
       "      <td>2016.01.11</td>\n",
       "      <td>00:02:00</td>\n",
       "      <td>1.09178</td>\n",
       "      <td>1.09178</td>\n",
       "      <td>1.09173</td>\n",
       "      <td>1.09177</td>\n",
       "      <td>8</td>\n",
       "      <td>10000000</td>\n",
       "      <td>31</td>\n",
       "    </tr>\n",
       "    <tr>\n",
       "      <th>2016-01-11 00:03:00</th>\n",
       "      <td>2016.01.11</td>\n",
       "      <td>00:03:00</td>\n",
       "      <td>1.09173</td>\n",
       "      <td>1.09184</td>\n",
       "      <td>1.09173</td>\n",
       "      <td>1.09177</td>\n",
       "      <td>12</td>\n",
       "      <td>14000000</td>\n",
       "      <td>31</td>\n",
       "    </tr>\n",
       "    <tr>\n",
       "      <th>2016-01-11 00:04:00</th>\n",
       "      <td>2016.01.11</td>\n",
       "      <td>00:04:00</td>\n",
       "      <td>1.09173</td>\n",
       "      <td>1.09201</td>\n",
       "      <td>1.09173</td>\n",
       "      <td>1.09196</td>\n",
       "      <td>12</td>\n",
       "      <td>6050000</td>\n",
       "      <td>28</td>\n",
       "    </tr>\n",
       "    <tr>\n",
       "      <th>2016-01-11 00:05:00</th>\n",
       "      <td>2016.01.11</td>\n",
       "      <td>00:05:00</td>\n",
       "      <td>1.09199</td>\n",
       "      <td>1.09203</td>\n",
       "      <td>1.09195</td>\n",
       "      <td>1.09201</td>\n",
       "      <td>16</td>\n",
       "      <td>15070000</td>\n",
       "      <td>19</td>\n",
       "    </tr>\n",
       "    <tr>\n",
       "      <th>...</th>\n",
       "      <td>...</td>\n",
       "      <td>...</td>\n",
       "      <td>...</td>\n",
       "      <td>...</td>\n",
       "      <td>...</td>\n",
       "      <td>...</td>\n",
       "      <td>...</td>\n",
       "      <td>...</td>\n",
       "      <td>...</td>\n",
       "    </tr>\n",
       "    <tr>\n",
       "      <th>2017-01-10 23:55:00</th>\n",
       "      <td>2017.01.10</td>\n",
       "      <td>23:55:00</td>\n",
       "      <td>1.05538</td>\n",
       "      <td>1.05541</td>\n",
       "      <td>1.05535</td>\n",
       "      <td>1.05538</td>\n",
       "      <td>51</td>\n",
       "      <td>41447000</td>\n",
       "      <td>9</td>\n",
       "    </tr>\n",
       "    <tr>\n",
       "      <th>2017-01-10 23:56:00</th>\n",
       "      <td>2017.01.10</td>\n",
       "      <td>23:56:00</td>\n",
       "      <td>1.05539</td>\n",
       "      <td>1.05547</td>\n",
       "      <td>1.05538</td>\n",
       "      <td>1.05546</td>\n",
       "      <td>66</td>\n",
       "      <td>87246000</td>\n",
       "      <td>9</td>\n",
       "    </tr>\n",
       "    <tr>\n",
       "      <th>2017-01-10 23:57:00</th>\n",
       "      <td>2017.01.10</td>\n",
       "      <td>23:57:00</td>\n",
       "      <td>1.05546</td>\n",
       "      <td>1.05549</td>\n",
       "      <td>1.05543</td>\n",
       "      <td>1.05544</td>\n",
       "      <td>54</td>\n",
       "      <td>55931000</td>\n",
       "      <td>7</td>\n",
       "    </tr>\n",
       "    <tr>\n",
       "      <th>2017-01-10 23:58:00</th>\n",
       "      <td>2017.01.10</td>\n",
       "      <td>23:58:00</td>\n",
       "      <td>1.05544</td>\n",
       "      <td>1.05546</td>\n",
       "      <td>1.05540</td>\n",
       "      <td>1.05541</td>\n",
       "      <td>106</td>\n",
       "      <td>115820000</td>\n",
       "      <td>8</td>\n",
       "    </tr>\n",
       "    <tr>\n",
       "      <th>2017-01-10 23:59:00</th>\n",
       "      <td>2017.01.10</td>\n",
       "      <td>23:59:00</td>\n",
       "      <td>1.05539</td>\n",
       "      <td>1.05542</td>\n",
       "      <td>1.05530</td>\n",
       "      <td>1.05534</td>\n",
       "      <td>11</td>\n",
       "      <td>9250000</td>\n",
       "      <td>13</td>\n",
       "    </tr>\n",
       "  </tbody>\n",
       "</table>\n",
       "<p>376027 rows × 9 columns</p>\n",
       "</div>"
      ],
      "text/plain": [
       "                           date      time     open     high      low    close  \\\n",
       "datetime                                                                        \n",
       "2016-01-11 00:01:00  2016.01.11  00:01:00  1.09171  1.09196  1.09171  1.09171   \n",
       "2016-01-11 00:02:00  2016.01.11  00:02:00  1.09178  1.09178  1.09173  1.09177   \n",
       "2016-01-11 00:03:00  2016.01.11  00:03:00  1.09173  1.09184  1.09173  1.09177   \n",
       "2016-01-11 00:04:00  2016.01.11  00:04:00  1.09173  1.09201  1.09173  1.09196   \n",
       "2016-01-11 00:05:00  2016.01.11  00:05:00  1.09199  1.09203  1.09195  1.09201   \n",
       "...                         ...       ...      ...      ...      ...      ...   \n",
       "2017-01-10 23:55:00  2017.01.10  23:55:00  1.05538  1.05541  1.05535  1.05538   \n",
       "2017-01-10 23:56:00  2017.01.10  23:56:00  1.05539  1.05547  1.05538  1.05546   \n",
       "2017-01-10 23:57:00  2017.01.10  23:57:00  1.05546  1.05549  1.05543  1.05544   \n",
       "2017-01-10 23:58:00  2017.01.10  23:58:00  1.05544  1.05546  1.05540  1.05541   \n",
       "2017-01-10 23:59:00  2017.01.10  23:59:00  1.05539  1.05542  1.05530  1.05534   \n",
       "\n",
       "                     tick_volume     volume  spread  \n",
       "datetime                                             \n",
       "2016-01-11 00:01:00            3    3000000      31  \n",
       "2016-01-11 00:02:00            8   10000000      31  \n",
       "2016-01-11 00:03:00           12   14000000      31  \n",
       "2016-01-11 00:04:00           12    6050000      28  \n",
       "2016-01-11 00:05:00           16   15070000      19  \n",
       "...                          ...        ...     ...  \n",
       "2017-01-10 23:55:00           51   41447000       9  \n",
       "2017-01-10 23:56:00           66   87246000       9  \n",
       "2017-01-10 23:57:00           54   55931000       7  \n",
       "2017-01-10 23:58:00          106  115820000       8  \n",
       "2017-01-10 23:59:00           11    9250000      13  \n",
       "\n",
       "[376027 rows x 9 columns]"
      ]
     },
     "execution_count": 154,
     "metadata": {},
     "output_type": "execute_result"
    }
   ],
   "source": []
  },
  {
   "cell_type": "code",
   "execution_count": null,
   "id": "ade1d39ee1faefb8",
   "metadata": {},
   "outputs": [],
   "source": []
  },
  {
   "cell_type": "code",
   "execution_count": null,
   "id": "650d211c467d835c",
   "metadata": {},
   "outputs": [],
   "source": []
  },
  {
   "cell_type": "code",
   "execution_count": null,
   "id": "6e30dfcf1c47dc14",
   "metadata": {},
   "outputs": [],
   "source": []
  },
  {
   "cell_type": "markdown",
   "id": "cb3b26b3b51e89e7",
   "metadata": {},
   "source": [
    "# One week of data"
   ]
  },
  {
   "cell_type": "code",
   "execution_count": 155,
   "id": "174f2d7e77d62f14",
   "metadata": {
    "ExecuteTime": {
     "end_time": "2024-03-07T20:38:47.971215Z",
     "start_time": "2024-03-07T20:38:47.961241Z"
    }
   },
   "outputs": [],
   "source": [
    "one_year_data = fx_df.loc['2016-01-10':'2017-01-10']"
   ]
  },
  {
   "cell_type": "code",
   "execution_count": 135,
   "id": "ffe16c2fbd1d8487",
   "metadata": {
    "ExecuteTime": {
     "end_time": "2024-03-07T20:20:44.560946Z",
     "start_time": "2024-03-07T20:20:44.556297Z"
    }
   },
   "outputs": [],
   "source": [
    "# removing date and time\n",
    "one_year_data = one_year_data.drop(columns=['date', 'time'])"
   ]
  },
  {
   "cell_type": "code",
   "execution_count": 156,
   "id": "614d350432801a3f",
   "metadata": {
    "ExecuteTime": {
     "end_time": "2024-03-07T20:38:54.515469Z",
     "start_time": "2024-03-07T20:38:54.499652Z"
    }
   },
   "outputs": [
    {
     "data": {
      "text/html": [
       "<div>\n",
       "<style scoped>\n",
       "    .dataframe tbody tr th:only-of-type {\n",
       "        vertical-align: middle;\n",
       "    }\n",
       "\n",
       "    .dataframe tbody tr th {\n",
       "        vertical-align: top;\n",
       "    }\n",
       "\n",
       "    .dataframe thead th {\n",
       "        text-align: right;\n",
       "    }\n",
       "</style>\n",
       "<table border=\"1\" class=\"dataframe\">\n",
       "  <thead>\n",
       "    <tr style=\"text-align: right;\">\n",
       "      <th></th>\n",
       "      <th>date</th>\n",
       "      <th>time</th>\n",
       "      <th>open</th>\n",
       "      <th>high</th>\n",
       "      <th>low</th>\n",
       "      <th>close</th>\n",
       "      <th>tick_volume</th>\n",
       "      <th>volume</th>\n",
       "      <th>spread</th>\n",
       "    </tr>\n",
       "    <tr>\n",
       "      <th>datetime</th>\n",
       "      <th></th>\n",
       "      <th></th>\n",
       "      <th></th>\n",
       "      <th></th>\n",
       "      <th></th>\n",
       "      <th></th>\n",
       "      <th></th>\n",
       "      <th></th>\n",
       "      <th></th>\n",
       "    </tr>\n",
       "  </thead>\n",
       "  <tbody>\n",
       "    <tr>\n",
       "      <th>2016-01-11 00:01:00</th>\n",
       "      <td>2016.01.11</td>\n",
       "      <td>00:01:00</td>\n",
       "      <td>1.09171</td>\n",
       "      <td>1.09196</td>\n",
       "      <td>1.09171</td>\n",
       "      <td>1.09171</td>\n",
       "      <td>3</td>\n",
       "      <td>3000000</td>\n",
       "      <td>31</td>\n",
       "    </tr>\n",
       "    <tr>\n",
       "      <th>2016-01-11 00:02:00</th>\n",
       "      <td>2016.01.11</td>\n",
       "      <td>00:02:00</td>\n",
       "      <td>1.09178</td>\n",
       "      <td>1.09178</td>\n",
       "      <td>1.09173</td>\n",
       "      <td>1.09177</td>\n",
       "      <td>8</td>\n",
       "      <td>10000000</td>\n",
       "      <td>31</td>\n",
       "    </tr>\n",
       "    <tr>\n",
       "      <th>2016-01-11 00:03:00</th>\n",
       "      <td>2016.01.11</td>\n",
       "      <td>00:03:00</td>\n",
       "      <td>1.09173</td>\n",
       "      <td>1.09184</td>\n",
       "      <td>1.09173</td>\n",
       "      <td>1.09177</td>\n",
       "      <td>12</td>\n",
       "      <td>14000000</td>\n",
       "      <td>31</td>\n",
       "    </tr>\n",
       "    <tr>\n",
       "      <th>2016-01-11 00:04:00</th>\n",
       "      <td>2016.01.11</td>\n",
       "      <td>00:04:00</td>\n",
       "      <td>1.09173</td>\n",
       "      <td>1.09201</td>\n",
       "      <td>1.09173</td>\n",
       "      <td>1.09196</td>\n",
       "      <td>12</td>\n",
       "      <td>6050000</td>\n",
       "      <td>28</td>\n",
       "    </tr>\n",
       "    <tr>\n",
       "      <th>2016-01-11 00:05:00</th>\n",
       "      <td>2016.01.11</td>\n",
       "      <td>00:05:00</td>\n",
       "      <td>1.09199</td>\n",
       "      <td>1.09203</td>\n",
       "      <td>1.09195</td>\n",
       "      <td>1.09201</td>\n",
       "      <td>16</td>\n",
       "      <td>15070000</td>\n",
       "      <td>19</td>\n",
       "    </tr>\n",
       "    <tr>\n",
       "      <th>...</th>\n",
       "      <td>...</td>\n",
       "      <td>...</td>\n",
       "      <td>...</td>\n",
       "      <td>...</td>\n",
       "      <td>...</td>\n",
       "      <td>...</td>\n",
       "      <td>...</td>\n",
       "      <td>...</td>\n",
       "      <td>...</td>\n",
       "    </tr>\n",
       "    <tr>\n",
       "      <th>2017-01-10 23:55:00</th>\n",
       "      <td>2017.01.10</td>\n",
       "      <td>23:55:00</td>\n",
       "      <td>1.05538</td>\n",
       "      <td>1.05541</td>\n",
       "      <td>1.05535</td>\n",
       "      <td>1.05538</td>\n",
       "      <td>51</td>\n",
       "      <td>41447000</td>\n",
       "      <td>9</td>\n",
       "    </tr>\n",
       "    <tr>\n",
       "      <th>2017-01-10 23:56:00</th>\n",
       "      <td>2017.01.10</td>\n",
       "      <td>23:56:00</td>\n",
       "      <td>1.05539</td>\n",
       "      <td>1.05547</td>\n",
       "      <td>1.05538</td>\n",
       "      <td>1.05546</td>\n",
       "      <td>66</td>\n",
       "      <td>87246000</td>\n",
       "      <td>9</td>\n",
       "    </tr>\n",
       "    <tr>\n",
       "      <th>2017-01-10 23:57:00</th>\n",
       "      <td>2017.01.10</td>\n",
       "      <td>23:57:00</td>\n",
       "      <td>1.05546</td>\n",
       "      <td>1.05549</td>\n",
       "      <td>1.05543</td>\n",
       "      <td>1.05544</td>\n",
       "      <td>54</td>\n",
       "      <td>55931000</td>\n",
       "      <td>7</td>\n",
       "    </tr>\n",
       "    <tr>\n",
       "      <th>2017-01-10 23:58:00</th>\n",
       "      <td>2017.01.10</td>\n",
       "      <td>23:58:00</td>\n",
       "      <td>1.05544</td>\n",
       "      <td>1.05546</td>\n",
       "      <td>1.05540</td>\n",
       "      <td>1.05541</td>\n",
       "      <td>106</td>\n",
       "      <td>115820000</td>\n",
       "      <td>8</td>\n",
       "    </tr>\n",
       "    <tr>\n",
       "      <th>2017-01-10 23:59:00</th>\n",
       "      <td>2017.01.10</td>\n",
       "      <td>23:59:00</td>\n",
       "      <td>1.05539</td>\n",
       "      <td>1.05542</td>\n",
       "      <td>1.05530</td>\n",
       "      <td>1.05534</td>\n",
       "      <td>11</td>\n",
       "      <td>9250000</td>\n",
       "      <td>13</td>\n",
       "    </tr>\n",
       "  </tbody>\n",
       "</table>\n",
       "<p>376027 rows × 9 columns</p>\n",
       "</div>"
      ],
      "text/plain": [
       "                           date      time     open     high      low    close  \\\n",
       "datetime                                                                        \n",
       "2016-01-11 00:01:00  2016.01.11  00:01:00  1.09171  1.09196  1.09171  1.09171   \n",
       "2016-01-11 00:02:00  2016.01.11  00:02:00  1.09178  1.09178  1.09173  1.09177   \n",
       "2016-01-11 00:03:00  2016.01.11  00:03:00  1.09173  1.09184  1.09173  1.09177   \n",
       "2016-01-11 00:04:00  2016.01.11  00:04:00  1.09173  1.09201  1.09173  1.09196   \n",
       "2016-01-11 00:05:00  2016.01.11  00:05:00  1.09199  1.09203  1.09195  1.09201   \n",
       "...                         ...       ...      ...      ...      ...      ...   \n",
       "2017-01-10 23:55:00  2017.01.10  23:55:00  1.05538  1.05541  1.05535  1.05538   \n",
       "2017-01-10 23:56:00  2017.01.10  23:56:00  1.05539  1.05547  1.05538  1.05546   \n",
       "2017-01-10 23:57:00  2017.01.10  23:57:00  1.05546  1.05549  1.05543  1.05544   \n",
       "2017-01-10 23:58:00  2017.01.10  23:58:00  1.05544  1.05546  1.05540  1.05541   \n",
       "2017-01-10 23:59:00  2017.01.10  23:59:00  1.05539  1.05542  1.05530  1.05534   \n",
       "\n",
       "                     tick_volume     volume  spread  \n",
       "datetime                                             \n",
       "2016-01-11 00:01:00            3    3000000      31  \n",
       "2016-01-11 00:02:00            8   10000000      31  \n",
       "2016-01-11 00:03:00           12   14000000      31  \n",
       "2016-01-11 00:04:00           12    6050000      28  \n",
       "2016-01-11 00:05:00           16   15070000      19  \n",
       "...                          ...        ...     ...  \n",
       "2017-01-10 23:55:00           51   41447000       9  \n",
       "2017-01-10 23:56:00           66   87246000       9  \n",
       "2017-01-10 23:57:00           54   55931000       7  \n",
       "2017-01-10 23:58:00          106  115820000       8  \n",
       "2017-01-10 23:59:00           11    9250000      13  \n",
       "\n",
       "[376027 rows x 9 columns]"
      ]
     },
     "execution_count": 156,
     "metadata": {},
     "output_type": "execute_result"
    }
   ],
   "source": [
    "one_year_data"
   ]
  },
  {
   "cell_type": "code",
   "execution_count": 157,
   "id": "8da92e7f25ba0c61",
   "metadata": {
    "ExecuteTime": {
     "end_time": "2024-03-07T20:38:58.010443Z",
     "start_time": "2024-03-07T20:38:57.990049Z"
    }
   },
   "outputs": [
    {
     "data": {
      "text/html": [
       "<div>\n",
       "<style scoped>\n",
       "    .dataframe tbody tr th:only-of-type {\n",
       "        vertical-align: middle;\n",
       "    }\n",
       "\n",
       "    .dataframe tbody tr th {\n",
       "        vertical-align: top;\n",
       "    }\n",
       "\n",
       "    .dataframe thead th {\n",
       "        text-align: right;\n",
       "    }\n",
       "</style>\n",
       "<table border=\"1\" class=\"dataframe\">\n",
       "  <thead>\n",
       "    <tr style=\"text-align: right;\">\n",
       "      <th></th>\n",
       "      <th>open</th>\n",
       "      <th>high</th>\n",
       "      <th>low</th>\n",
       "      <th>close</th>\n",
       "      <th>tick_volume</th>\n",
       "      <th>volume</th>\n",
       "      <th>spread</th>\n",
       "    </tr>\n",
       "    <tr>\n",
       "      <th>datetime</th>\n",
       "      <th></th>\n",
       "      <th></th>\n",
       "      <th></th>\n",
       "      <th></th>\n",
       "      <th></th>\n",
       "      <th></th>\n",
       "      <th></th>\n",
       "    </tr>\n",
       "  </thead>\n",
       "  <tbody>\n",
       "    <tr>\n",
       "      <th>2016-01-11</th>\n",
       "      <td>1568.50468</td>\n",
       "      <td>1568.67194</td>\n",
       "      <td>1568.33707</td>\n",
       "      <td>1568.49900</td>\n",
       "      <td>153753</td>\n",
       "      <td>208525277000</td>\n",
       "      <td>11379</td>\n",
       "    </tr>\n",
       "    <tr>\n",
       "      <th>2016-01-12</th>\n",
       "      <td>1563.76748</td>\n",
       "      <td>1563.91674</td>\n",
       "      <td>1563.61907</td>\n",
       "      <td>1563.76776</td>\n",
       "      <td>159298</td>\n",
       "      <td>218747711000</td>\n",
       "      <td>10875</td>\n",
       "    </tr>\n",
       "    <tr>\n",
       "      <th>2016-01-13</th>\n",
       "      <td>1560.70234</td>\n",
       "      <td>1560.85042</td>\n",
       "      <td>1560.55803</td>\n",
       "      <td>1560.70525</td>\n",
       "      <td>165246</td>\n",
       "      <td>238781195000</td>\n",
       "      <td>10924</td>\n",
       "    </tr>\n",
       "    <tr>\n",
       "      <th>2016-01-14</th>\n",
       "      <td>1567.06867</td>\n",
       "      <td>1567.24505</td>\n",
       "      <td>1566.89383</td>\n",
       "      <td>1567.06913</td>\n",
       "      <td>181007</td>\n",
       "      <td>261259365000</td>\n",
       "      <td>11027</td>\n",
       "    </tr>\n",
       "    <tr>\n",
       "      <th>2016-01-15</th>\n",
       "      <td>1570.25377</td>\n",
       "      <td>1570.45210</td>\n",
       "      <td>1570.06863</td>\n",
       "      <td>1570.25857</td>\n",
       "      <td>184568</td>\n",
       "      <td>257717789000</td>\n",
       "      <td>10509</td>\n",
       "    </tr>\n",
       "    <tr>\n",
       "      <th>...</th>\n",
       "      <td>...</td>\n",
       "      <td>...</td>\n",
       "      <td>...</td>\n",
       "      <td>...</td>\n",
       "      <td>...</td>\n",
       "      <td>...</td>\n",
       "      <td>...</td>\n",
       "    </tr>\n",
       "    <tr>\n",
       "      <th>2017-01-06</th>\n",
       "      <td>1522.63749</td>\n",
       "      <td>1522.80672</td>\n",
       "      <td>1522.47288</td>\n",
       "      <td>1522.63080</td>\n",
       "      <td>146008</td>\n",
       "      <td>118344198000</td>\n",
       "      <td>11582</td>\n",
       "    </tr>\n",
       "    <tr>\n",
       "      <th>2017-01-07</th>\n",
       "      <td>0.00000</td>\n",
       "      <td>0.00000</td>\n",
       "      <td>0.00000</td>\n",
       "      <td>0.00000</td>\n",
       "      <td>0</td>\n",
       "      <td>0</td>\n",
       "      <td>0</td>\n",
       "    </tr>\n",
       "    <tr>\n",
       "      <th>2017-01-08</th>\n",
       "      <td>0.00000</td>\n",
       "      <td>0.00000</td>\n",
       "      <td>0.00000</td>\n",
       "      <td>0.00000</td>\n",
       "      <td>0</td>\n",
       "      <td>0</td>\n",
       "      <td>0</td>\n",
       "    </tr>\n",
       "    <tr>\n",
       "      <th>2017-01-09</th>\n",
       "      <td>1517.86296</td>\n",
       "      <td>1518.00885</td>\n",
       "      <td>1517.72667</td>\n",
       "      <td>1517.86761</td>\n",
       "      <td>125800</td>\n",
       "      <td>100548237000</td>\n",
       "      <td>11397</td>\n",
       "    </tr>\n",
       "    <tr>\n",
       "      <th>2017-01-10</th>\n",
       "      <td>1524.18753</td>\n",
       "      <td>1524.34700</td>\n",
       "      <td>1524.03027</td>\n",
       "      <td>1524.18502</td>\n",
       "      <td>147523</td>\n",
       "      <td>114947119000</td>\n",
       "      <td>11234</td>\n",
       "    </tr>\n",
       "  </tbody>\n",
       "</table>\n",
       "<p>366 rows × 7 columns</p>\n",
       "</div>"
      ],
      "text/plain": [
       "                  open        high         low       close  tick_volume  \\\n",
       "datetime                                                                  \n",
       "2016-01-11  1568.50468  1568.67194  1568.33707  1568.49900       153753   \n",
       "2016-01-12  1563.76748  1563.91674  1563.61907  1563.76776       159298   \n",
       "2016-01-13  1560.70234  1560.85042  1560.55803  1560.70525       165246   \n",
       "2016-01-14  1567.06867  1567.24505  1566.89383  1567.06913       181007   \n",
       "2016-01-15  1570.25377  1570.45210  1570.06863  1570.25857       184568   \n",
       "...                ...         ...         ...         ...          ...   \n",
       "2017-01-06  1522.63749  1522.80672  1522.47288  1522.63080       146008   \n",
       "2017-01-07     0.00000     0.00000     0.00000     0.00000            0   \n",
       "2017-01-08     0.00000     0.00000     0.00000     0.00000            0   \n",
       "2017-01-09  1517.86296  1518.00885  1517.72667  1517.86761       125800   \n",
       "2017-01-10  1524.18753  1524.34700  1524.03027  1524.18502       147523   \n",
       "\n",
       "                  volume  spread  \n",
       "datetime                          \n",
       "2016-01-11  208525277000   11379  \n",
       "2016-01-12  218747711000   10875  \n",
       "2016-01-13  238781195000   10924  \n",
       "2016-01-14  261259365000   11027  \n",
       "2016-01-15  257717789000   10509  \n",
       "...                  ...     ...  \n",
       "2017-01-06  118344198000   11582  \n",
       "2017-01-07             0       0  \n",
       "2017-01-08             0       0  \n",
       "2017-01-09  100548237000   11397  \n",
       "2017-01-10  114947119000   11234  \n",
       "\n",
       "[366 rows x 7 columns]"
      ]
     },
     "execution_count": 157,
     "metadata": {},
     "output_type": "execute_result"
    }
   ],
   "source": [
    "one_year_data.resample('D').sum()"
   ]
  },
  {
   "cell_type": "code",
   "execution_count": 158,
   "id": "f10bb8182b906e1f",
   "metadata": {
    "ExecuteTime": {
     "end_time": "2024-03-07T20:39:06.957597Z",
     "start_time": "2024-03-07T20:39:06.831326Z"
    }
   },
   "outputs": [
    {
     "data": {
      "image/png": "[encoded data removed]",
      "text/plain": [
       "<Figure size 1000x600 with 1 Axes>"
      ]
     },
     "metadata": {},
     "output_type": "display_data"
    }
   ],
   "source": [
    "# one_week_data = fx_df.loc['2000-01-03':'2000-01-10'] \n",
    "\n",
    "# Plot 'volume' against 'datetime'\n",
    "plt.figure(figsize=(10,6))\n",
    "plt.plot(one_year_data.index, one_year_data['volume'])\n",
    "plt.xlabel('Date')\n",
    "plt.ylabel('Volume')\n",
    "plt.title('Volume over one week')\n",
    "plt.show()"
   ]
  },
  {
   "cell_type": "code",
   "execution_count": 184,
   "id": "3667c3905b9ed4d6",
   "metadata": {
    "ExecuteTime": {
     "end_time": "2024-03-07T20:51:09.630431Z",
     "start_time": "2024-03-07T20:51:09.625130Z"
    }
   },
   "outputs": [],
   "source": [
    "final_df = one_year_data[['close','volume']]"
   ]
  },
  {
   "cell_type": "code",
   "execution_count": 185,
   "id": "88a5bae946b90080",
   "metadata": {
    "ExecuteTime": {
     "end_time": "2024-03-07T20:51:09.861184Z",
     "start_time": "2024-03-07T20:51:09.856727Z"
    }
   },
   "outputs": [
    {
     "data": {
      "text/html": [
       "<div>\n",
       "<style scoped>\n",
       "    .dataframe tbody tr th:only-of-type {\n",
       "        vertical-align: middle;\n",
       "    }\n",
       "\n",
       "    .dataframe tbody tr th {\n",
       "        vertical-align: top;\n",
       "    }\n",
       "\n",
       "    .dataframe thead th {\n",
       "        text-align: right;\n",
       "    }\n",
       "</style>\n",
       "<table border=\"1\" class=\"dataframe\">\n",
       "  <thead>\n",
       "    <tr style=\"text-align: right;\">\n",
       "      <th></th>\n",
       "      <th>close</th>\n",
       "      <th>volume</th>\n",
       "    </tr>\n",
       "    <tr>\n",
       "      <th>datetime</th>\n",
       "      <th></th>\n",
       "      <th></th>\n",
       "    </tr>\n",
       "  </thead>\n",
       "  <tbody>\n",
       "    <tr>\n",
       "      <th>2016-01-11 00:01:00</th>\n",
       "      <td>1.09171</td>\n",
       "      <td>3000000</td>\n",
       "    </tr>\n",
       "    <tr>\n",
       "      <th>2016-01-11 00:02:00</th>\n",
       "      <td>1.09177</td>\n",
       "      <td>10000000</td>\n",
       "    </tr>\n",
       "    <tr>\n",
       "      <th>2016-01-11 00:03:00</th>\n",
       "      <td>1.09177</td>\n",
       "      <td>14000000</td>\n",
       "    </tr>\n",
       "    <tr>\n",
       "      <th>2016-01-11 00:04:00</th>\n",
       "      <td>1.09196</td>\n",
       "      <td>6050000</td>\n",
       "    </tr>\n",
       "    <tr>\n",
       "      <th>2016-01-11 00:05:00</th>\n",
       "      <td>1.09201</td>\n",
       "      <td>15070000</td>\n",
       "    </tr>\n",
       "    <tr>\n",
       "      <th>...</th>\n",
       "      <td>...</td>\n",
       "      <td>...</td>\n",
       "    </tr>\n",
       "    <tr>\n",
       "      <th>2017-01-10 23:55:00</th>\n",
       "      <td>1.05538</td>\n",
       "      <td>41447000</td>\n",
       "    </tr>\n",
       "    <tr>\n",
       "      <th>2017-01-10 23:56:00</th>\n",
       "      <td>1.05546</td>\n",
       "      <td>87246000</td>\n",
       "    </tr>\n",
       "    <tr>\n",
       "      <th>2017-01-10 23:57:00</th>\n",
       "      <td>1.05544</td>\n",
       "      <td>55931000</td>\n",
       "    </tr>\n",
       "    <tr>\n",
       "      <th>2017-01-10 23:58:00</th>\n",
       "      <td>1.05541</td>\n",
       "      <td>115820000</td>\n",
       "    </tr>\n",
       "    <tr>\n",
       "      <th>2017-01-10 23:59:00</th>\n",
       "      <td>1.05534</td>\n",
       "      <td>9250000</td>\n",
       "    </tr>\n",
       "  </tbody>\n",
       "</table>\n",
       "<p>376027 rows × 2 columns</p>\n",
       "</div>"
      ],
      "text/plain": [
       "                       close     volume\n",
       "datetime                               \n",
       "2016-01-11 00:01:00  1.09171    3000000\n",
       "2016-01-11 00:02:00  1.09177   10000000\n",
       "2016-01-11 00:03:00  1.09177   14000000\n",
       "2016-01-11 00:04:00  1.09196    6050000\n",
       "2016-01-11 00:05:00  1.09201   15070000\n",
       "...                      ...        ...\n",
       "2017-01-10 23:55:00  1.05538   41447000\n",
       "2017-01-10 23:56:00  1.05546   87246000\n",
       "2017-01-10 23:57:00  1.05544   55931000\n",
       "2017-01-10 23:58:00  1.05541  115820000\n",
       "2017-01-10 23:59:00  1.05534    9250000\n",
       "\n",
       "[376027 rows x 2 columns]"
      ]
     },
     "execution_count": 185,
     "metadata": {},
     "output_type": "execute_result"
    }
   ],
   "source": [
    "final_df"
   ]
  },
  {
   "cell_type": "code",
   "execution_count": 194,
   "id": "c3a6cbfa8cea0737",
   "metadata": {
    "ExecuteTime": {
     "end_time": "2024-03-07T20:57:35.983268Z",
     "start_time": "2024-03-07T20:57:35.968830Z"
    }
   },
   "outputs": [
    {
     "data": {
      "text/plain": [
       "array([-1, -1,  1, ...,  1, -1, -1])"
      ]
     },
     "execution_count": 194,
     "metadata": {},
     "output_type": "execute_result"
    }
   ],
   "source": []
  },
  {
   "cell_type": "code",
   "execution_count": 197,
   "id": "7ace99201ad3014c",
   "metadata": {
    "ExecuteTime": {
     "end_time": "2024-03-07T20:58:57.603765Z",
     "start_time": "2024-03-07T20:58:57.597246Z"
    }
   },
   "outputs": [
    {
     "name": "stderr",
     "output_type": "stream",
     "text": [
      "/var/folders/7k/bwklz4fj0lx3ds5b1nnr61080000gn/T/ipykernel_10753/1577608179.py:1: SettingWithCopyWarning: \n",
      "A value is trying to be set on a copy of a slice from a DataFrame.\n",
      "Try using .loc[row_indexer,col_indexer] = value instead\n",
      "\n",
      "See the caveats in the documentation: https://pandas.pydata.org/pandas-docs/stable/user_guide/indexing.html#returning-a-view-versus-a-copy\n",
      "  final_df['forcast'] = np.where(final_df['close'].shift(1).diff() >= 0, 1, -1)\n"
     ]
    }
   ],
   "source": [
    "final_df['forcast'] = np.where(final_df['close'].shift(1).diff() >= 0, 1, -1)\n"
   ]
  },
  {
   "cell_type": "code",
   "execution_count": 196,
   "id": "3fcc67ce396c2d40",
   "metadata": {
    "ExecuteTime": {
     "end_time": "2024-03-07T20:57:46.725127Z",
     "start_time": "2024-03-07T20:57:46.696565Z"
    }
   },
   "outputs": [
    {
     "data": {
      "text/html": [
       "<div>\n",
       "<style scoped>\n",
       "    .dataframe tbody tr th:only-of-type {\n",
       "        vertical-align: middle;\n",
       "    }\n",
       "\n",
       "    .dataframe tbody tr th {\n",
       "        vertical-align: top;\n",
       "    }\n",
       "\n",
       "    .dataframe thead th {\n",
       "        text-align: right;\n",
       "    }\n",
       "</style>\n",
       "<table border=\"1\" class=\"dataframe\">\n",
       "  <thead>\n",
       "    <tr style=\"text-align: right;\">\n",
       "      <th></th>\n",
       "      <th>close</th>\n",
       "      <th>volume</th>\n",
       "      <th>forcast</th>\n",
       "    </tr>\n",
       "    <tr>\n",
       "      <th>datetime</th>\n",
       "      <th></th>\n",
       "      <th></th>\n",
       "      <th></th>\n",
       "    </tr>\n",
       "  </thead>\n",
       "  <tbody>\n",
       "    <tr>\n",
       "      <th>2016-01-11 00:01:00</th>\n",
       "      <td>1.09171</td>\n",
       "      <td>3000000</td>\n",
       "      <td>-1</td>\n",
       "    </tr>\n",
       "    <tr>\n",
       "      <th>2016-01-11 00:02:00</th>\n",
       "      <td>1.09177</td>\n",
       "      <td>10000000</td>\n",
       "      <td>-1</td>\n",
       "    </tr>\n",
       "    <tr>\n",
       "      <th>2016-01-11 00:03:00</th>\n",
       "      <td>1.09177</td>\n",
       "      <td>14000000</td>\n",
       "      <td>1</td>\n",
       "    </tr>\n",
       "    <tr>\n",
       "      <th>2016-01-11 00:04:00</th>\n",
       "      <td>1.09196</td>\n",
       "      <td>6050000</td>\n",
       "      <td>1</td>\n",
       "    </tr>\n",
       "    <tr>\n",
       "      <th>2016-01-11 00:05:00</th>\n",
       "      <td>1.09201</td>\n",
       "      <td>15070000</td>\n",
       "      <td>1</td>\n",
       "    </tr>\n",
       "    <tr>\n",
       "      <th>...</th>\n",
       "      <td>...</td>\n",
       "      <td>...</td>\n",
       "      <td>...</td>\n",
       "    </tr>\n",
       "    <tr>\n",
       "      <th>2017-01-10 23:55:00</th>\n",
       "      <td>1.05538</td>\n",
       "      <td>41447000</td>\n",
       "      <td>1</td>\n",
       "    </tr>\n",
       "    <tr>\n",
       "      <th>2017-01-10 23:56:00</th>\n",
       "      <td>1.05546</td>\n",
       "      <td>87246000</td>\n",
       "      <td>1</td>\n",
       "    </tr>\n",
       "    <tr>\n",
       "      <th>2017-01-10 23:57:00</th>\n",
       "      <td>1.05544</td>\n",
       "      <td>55931000</td>\n",
       "      <td>1</td>\n",
       "    </tr>\n",
       "    <tr>\n",
       "      <th>2017-01-10 23:58:00</th>\n",
       "      <td>1.05541</td>\n",
       "      <td>115820000</td>\n",
       "      <td>-1</td>\n",
       "    </tr>\n",
       "    <tr>\n",
       "      <th>2017-01-10 23:59:00</th>\n",
       "      <td>1.05534</td>\n",
       "      <td>9250000</td>\n",
       "      <td>-1</td>\n",
       "    </tr>\n",
       "  </tbody>\n",
       "</table>\n",
       "<p>376027 rows × 3 columns</p>\n",
       "</div>"
      ],
      "text/plain": [
       "                       close     volume  forcast\n",
       "datetime                                        \n",
       "2016-01-11 00:01:00  1.09171    3000000       -1\n",
       "2016-01-11 00:02:00  1.09177   10000000       -1\n",
       "2016-01-11 00:03:00  1.09177   14000000        1\n",
       "2016-01-11 00:04:00  1.09196    6050000        1\n",
       "2016-01-11 00:05:00  1.09201   15070000        1\n",
       "...                      ...        ...      ...\n",
       "2017-01-10 23:55:00  1.05538   41447000        1\n",
       "2017-01-10 23:56:00  1.05546   87246000        1\n",
       "2017-01-10 23:57:00  1.05544   55931000        1\n",
       "2017-01-10 23:58:00  1.05541  115820000       -1\n",
       "2017-01-10 23:59:00  1.05534    9250000       -1\n",
       "\n",
       "[376027 rows x 3 columns]"
      ]
     },
     "execution_count": 196,
     "metadata": {},
     "output_type": "execute_result"
    }
   ],
   "source": [
    "final_df"
   ]
  },
  {
   "cell_type": "code",
   "execution_count": 191,
   "id": "141ec699e141c0f3",
   "metadata": {
    "ExecuteTime": {
     "end_time": "2024-03-07T20:55:06.890354Z",
     "start_time": "2024-03-07T20:55:06.879160Z"
    }
   },
   "outputs": [
    {
     "name": "stderr",
     "output_type": "stream",
     "text": [
      "/var/folders/7k/bwklz4fj0lx3ds5b1nnr61080000gn/T/ipykernel_10753/2593610208.py:1: SettingWithCopyWarning: \n",
      "A value is trying to be set on a copy of a slice from a DataFrame.\n",
      "Try using .loc[row_indexer,col_indexer] = value instead\n",
      "\n",
      "See the caveats in the documentation: https://pandas.pydata.org/pandas-docs/stable/user_guide/indexing.html#returning-a-view-versus-a-copy\n",
      "  final_df['forcast'] = final_df['forcast'].shift(1)\n"
     ]
    }
   ],
   "source": [
    "final_df['forcast'] = final_df['forcast'].shift(1)"
   ]
  },
  {
   "cell_type": "code",
   "execution_count": 192,
   "id": "94e9663078f6a274",
   "metadata": {
    "ExecuteTime": {
     "end_time": "2024-03-07T20:55:07.212751Z",
     "start_time": "2024-03-07T20:55:07.209202Z"
    }
   },
   "outputs": [
    {
     "data": {
      "text/html": [
       "<div>\n",
       "<style scoped>\n",
       "    .dataframe tbody tr th:only-of-type {\n",
       "        vertical-align: middle;\n",
       "    }\n",
       "\n",
       "    .dataframe tbody tr th {\n",
       "        vertical-align: top;\n",
       "    }\n",
       "\n",
       "    .dataframe thead th {\n",
       "        text-align: right;\n",
       "    }\n",
       "</style>\n",
       "<table border=\"1\" class=\"dataframe\">\n",
       "  <thead>\n",
       "    <tr style=\"text-align: right;\">\n",
       "      <th></th>\n",
       "      <th>close</th>\n",
       "      <th>volume</th>\n",
       "      <th>forcast</th>\n",
       "    </tr>\n",
       "    <tr>\n",
       "      <th>datetime</th>\n",
       "      <th></th>\n",
       "      <th></th>\n",
       "      <th></th>\n",
       "    </tr>\n",
       "  </thead>\n",
       "  <tbody>\n",
       "    <tr>\n",
       "      <th>2016-01-11 00:01:00</th>\n",
       "      <td>1.09171</td>\n",
       "      <td>3000000</td>\n",
       "      <td>NaN</td>\n",
       "    </tr>\n",
       "    <tr>\n",
       "      <th>2016-01-11 00:02:00</th>\n",
       "      <td>1.09177</td>\n",
       "      <td>10000000</td>\n",
       "      <td>-1.0</td>\n",
       "    </tr>\n",
       "    <tr>\n",
       "      <th>2016-01-11 00:03:00</th>\n",
       "      <td>1.09177</td>\n",
       "      <td>14000000</td>\n",
       "      <td>1.0</td>\n",
       "    </tr>\n",
       "    <tr>\n",
       "      <th>2016-01-11 00:04:00</th>\n",
       "      <td>1.09196</td>\n",
       "      <td>6050000</td>\n",
       "      <td>1.0</td>\n",
       "    </tr>\n",
       "    <tr>\n",
       "      <th>2016-01-11 00:05:00</th>\n",
       "      <td>1.09201</td>\n",
       "      <td>15070000</td>\n",
       "      <td>1.0</td>\n",
       "    </tr>\n",
       "    <tr>\n",
       "      <th>...</th>\n",
       "      <td>...</td>\n",
       "      <td>...</td>\n",
       "      <td>...</td>\n",
       "    </tr>\n",
       "    <tr>\n",
       "      <th>2017-01-10 23:55:00</th>\n",
       "      <td>1.05538</td>\n",
       "      <td>41447000</td>\n",
       "      <td>1.0</td>\n",
       "    </tr>\n",
       "    <tr>\n",
       "      <th>2017-01-10 23:56:00</th>\n",
       "      <td>1.05546</td>\n",
       "      <td>87246000</td>\n",
       "      <td>1.0</td>\n",
       "    </tr>\n",
       "    <tr>\n",
       "      <th>2017-01-10 23:57:00</th>\n",
       "      <td>1.05544</td>\n",
       "      <td>55931000</td>\n",
       "      <td>1.0</td>\n",
       "    </tr>\n",
       "    <tr>\n",
       "      <th>2017-01-10 23:58:00</th>\n",
       "      <td>1.05541</td>\n",
       "      <td>115820000</td>\n",
       "      <td>-1.0</td>\n",
       "    </tr>\n",
       "    <tr>\n",
       "      <th>2017-01-10 23:59:00</th>\n",
       "      <td>1.05534</td>\n",
       "      <td>9250000</td>\n",
       "      <td>-1.0</td>\n",
       "    </tr>\n",
       "  </tbody>\n",
       "</table>\n",
       "<p>376027 rows × 3 columns</p>\n",
       "</div>"
      ],
      "text/plain": [
       "                       close     volume  forcast\n",
       "datetime                                        \n",
       "2016-01-11 00:01:00  1.09171    3000000      NaN\n",
       "2016-01-11 00:02:00  1.09177   10000000     -1.0\n",
       "2016-01-11 00:03:00  1.09177   14000000      1.0\n",
       "2016-01-11 00:04:00  1.09196    6050000      1.0\n",
       "2016-01-11 00:05:00  1.09201   15070000      1.0\n",
       "...                      ...        ...      ...\n",
       "2017-01-10 23:55:00  1.05538   41447000      1.0\n",
       "2017-01-10 23:56:00  1.05546   87246000      1.0\n",
       "2017-01-10 23:57:00  1.05544   55931000      1.0\n",
       "2017-01-10 23:58:00  1.05541  115820000     -1.0\n",
       "2017-01-10 23:59:00  1.05534    9250000     -1.0\n",
       "\n",
       "[376027 rows x 3 columns]"
      ]
     },
     "execution_count": 192,
     "metadata": {},
     "output_type": "execute_result"
    }
   ],
   "source": [
    "final_df"
   ]
  },
  {
   "cell_type": "code",
   "execution_count": 213,
   "id": "1d5d45c75b2b18ec",
   "metadata": {
    "ExecuteTime": {
     "end_time": "2024-03-07T21:22:33.567395Z",
     "start_time": "2024-03-07T21:22:33.561713Z"
    }
   },
   "outputs": [],
   "source": [
    "train_treshhold = 0.8\n",
    "train_size = int(len(final_df) * train_treshhold)\n",
    "\n",
    "\n",
    "X_train = final_df[['close', 'volume']].iloc[:train_size, :-1]\n",
    "X_test = final_df[['close', 'volume']].iloc[train_size:, :-1]\n",
    "y_train = final_df[['forcast']].iloc[:train_size, -1]\n",
    "y_test = final_df[['forcast']].iloc[train_size:, -1]"
   ]
  },
  {
   "cell_type": "code",
   "execution_count": 209,
   "id": "f9a80637455b772",
   "metadata": {
    "ExecuteTime": {
     "end_time": "2024-03-07T21:20:26.131484Z",
     "start_time": "2024-03-07T21:20:26.129809Z"
    }
   },
   "outputs": [
    {
     "data": {
      "text/plain": [
       "((300821, 1), (75206, 1), (300821,), (75206,))"
      ]
     },
     "execution_count": 209,
     "metadata": {},
     "output_type": "execute_result"
    }
   ],
   "source": [
    "X_train.shape, X_test.shape, y_train.shape, y_test.shape"
   ]
  },
  {
   "cell_type": "code",
   "execution_count": 214,
   "id": "447d44cfe272a1d",
   "metadata": {
    "ExecuteTime": {
     "end_time": "2024-03-07T21:24:28.124328Z",
     "start_time": "2024-03-07T21:24:28.117274Z"
    }
   },
   "outputs": [],
   "source": [
    "train_size = 0.6\n",
    "index = round(train_size*final_df.shape[0])\n",
    "\n",
    "df_train = final_df.iloc[:index]\n",
    "df_test = final_df.iloc[index:]"
   ]
  },
  {
   "cell_type": "code",
   "execution_count": 215,
   "id": "821ec9a2b73ad536",
   "metadata": {
    "ExecuteTime": {
     "end_time": "2024-03-07T21:24:31.226493Z",
     "start_time": "2024-03-07T21:24:31.214175Z"
    }
   },
   "outputs": [
    {
     "data": {
      "text/plain": [
       "((225616, 3), (150411, 3))"
      ]
     },
     "execution_count": 215,
     "metadata": {},
     "output_type": "execute_result"
    }
   ],
   "source": [
    "df_train.shape, df_test.shape"
   ]
  },
  {
   "cell_type": "code",
   "execution_count": 216,
   "id": "c75b3a12db678941",
   "metadata": {
    "ExecuteTime": {
     "end_time": "2024-03-07T21:24:47.754132Z",
     "start_time": "2024-03-07T21:24:47.744935Z"
    }
   },
   "outputs": [],
   "source": [
    "X_train = df_train[['close', 'volume']]\n",
    "y_train = df_train['forcast']\n",
    "X_test = df_test[['close', 'volume']]\n",
    "y_test = df_test['forcast']"
   ]
  },
  {
   "cell_type": "code",
   "execution_count": 217,
   "id": "d36cfaba9a64106e",
   "metadata": {
    "ExecuteTime": {
     "end_time": "2024-03-07T21:24:53.361065Z",
     "start_time": "2024-03-07T21:24:53.343638Z"
    }
   },
   "outputs": [
    {
     "data": {
      "text/plain": [
       "((225616, 2), (225616,), (150411, 2), (150411,))"
      ]
     },
     "execution_count": 217,
     "metadata": {},
     "output_type": "execute_result"
    }
   ],
   "source": [
    "X_train.shape, y_train.shape, X_test.shape, y_test.shape"
   ]
  },
  {
   "cell_type": "code",
   "execution_count": 254,
   "id": "ae183fb57ba276db",
   "metadata": {
    "ExecuteTime": {
     "end_time": "2024-03-07T21:46:03.359162Z",
     "start_time": "2024-03-07T21:45:59.295998Z"
    }
   },
   "outputs": [
    {
     "data": {
      "text/plain": [
       "<keras.callbacks.History at 0x52c8b1720>"
      ]
     },
     "execution_count": 254,
     "metadata": {},
     "output_type": "execute_result"
    }
   ],
   "source": [
    "from tensorflow.keras import layers, Sequential\n",
    "\n",
    "# Size of your embedding space = size of the vector representing each word\n",
    "# it is your universe dimension on which you will place your words: 1)big small 2)good bad 3)alive dead etc\n",
    "# but you only give dimension to the model, it'll create them with abstract labels, a bit like PCA\n",
    "\n",
    "# X=final_df[['close','volume']]\n",
    "# y=final_df[['forcast']]\n",
    "\n",
    "model = Sequential()\n",
    "# add lstm \n",
    "model.add(layers.LSTM(units=3, activation='relu', input_shape=(1,2)))\n",
    "model.add(layers.Dense(3, activation=\"relu\"))\n",
    "model.add(layers.Dense(1, activation=\"sigmoid\"))\n",
    "\n",
    "model.compile(loss='binary_crossentropy', optimizer='adam', metrics=['accuracy'])\n",
    "X_train_reshaped = np.reshape(X_train.values, (X_train.shape[0], 1, X_train.shape[1]))\n",
    "model.fit(X_train_reshaped,y_train, verbose=0, epochs=30, batch_size=1000, shuffle=False)\n"
   ]
  },
  {
   "cell_type": "code",
   "execution_count": 255,
   "id": "8349675f5bfa11d4",
   "metadata": {
    "ExecuteTime": {
     "end_time": "2024-03-07T21:46:03.369891Z",
     "start_time": "2024-03-07T21:46:03.359790Z"
    }
   },
   "outputs": [
    {
     "name": "stdout",
     "output_type": "stream",
     "text": [
      "Model: \"sequential_29\"\n",
      "_________________________________________________________________\n",
      " Layer (type)                Output Shape              Param #   \n",
      "=================================================================\n",
      " lstm_28 (LSTM)              (None, 3)                 72        \n",
      "                                                                 \n",
      " dense_26 (Dense)            (None, 3)                 12        \n",
      "                                                                 \n",
      " dense_27 (Dense)            (None, 1)                 4         \n",
      "                                                                 \n",
      "=================================================================\n",
      "Total params: 88\n",
      "Trainable params: 88\n",
      "Non-trainable params: 0\n",
      "_________________________________________________________________\n"
     ]
    }
   ],
   "source": [
    "model.summary()"
   ]
  },
  {
   "cell_type": "code",
   "execution_count": 256,
   "id": "bddb9902ab5a61ed",
   "metadata": {
    "ExecuteTime": {
     "end_time": "2024-03-07T21:46:07.532498Z",
     "start_time": "2024-03-07T21:46:05.893056Z"
    }
   },
   "outputs": [
    {
     "name": "stdout",
     "output_type": "stream",
     "text": [
      "4701/4701 [==============================] - 2s 322us/step - loss: 0.2473 - accuracy: 0.0000e+00\n"
     ]
    },
    {
     "data": {
      "text/plain": [
       "[0.24727275967597961, 0.0]"
      ]
     },
     "execution_count": 256,
     "metadata": {},
     "output_type": "execute_result"
    }
   ],
   "source": [
    "X_test_reshaped = np.reshape(X_test.values, (X_test.shape[0], 1, X_test.shape[1]))\n",
    "model.evaluate(X_test_reshaped, y_test)"
   ]
  },
  {
   "cell_type": "code",
   "execution_count": null,
   "id": "708d86efeb4d6cf0",
   "metadata": {},
   "outputs": [],
   "source": []
  }
 ],
 "metadata": {
  "kernelspec": {
   "display_name": "Python 3 (ipykernel)",
   "language": "python",
   "name": "python3"
  },
  "language_info": {
   "codemirror_mode": {
    "name": "ipython",
    "version": 3
   },
   "file_extension": ".py",
   "mimetype": "text/x-python",
   "name": "python",
   "nbconvert_exporter": "python",
   "pygments_lexer": "ipython3",
   "version": "3.10.6"
  },
  "toc": {
   "base_numbering": 1,
   "nav_menu": {},
   "number_sections": true,
   "sideBar": true,
   "skip_h1_title": false,
   "title_cell": "Table of Contents",
   "title_sidebar": "Contents",
   "toc_cell": false,
   "toc_position": {},
   "toc_section_display": true,
   "toc_window_display": false
  }
 },
 "nbformat": 4,
 "nbformat_minor": 5
}
